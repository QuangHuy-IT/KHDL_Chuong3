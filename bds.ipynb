{
 "cells": [
  {
   "cell_type": "code",
   "execution_count": 548,
   "id": "1b8f627b",
   "metadata": {},
   "outputs": [],
   "source": [
    "import pandas as pd\n",
    "import numpy as np\n",
    "import re"
   ]
  },
  {
   "cell_type": "code",
   "execution_count": 549,
   "id": "da3c5354",
   "metadata": {},
   "outputs": [
    {
     "name": "stdout",
     "output_type": "stream",
     "text": [
      "<class 'pandas.core.frame.DataFrame'>\n",
      "RangeIndex: 2436 entries, 0 to 2435\n",
      "Data columns (total 9 columns):\n",
      " #   Column               Non-Null Count  Dtype  \n",
      "---  ------               --------------  -----  \n",
      " 0   ngay_dang            2435 non-null   object \n",
      " 1   loai_hinh            2435 non-null   object \n",
      " 2   dien_tich            2435 non-null   object \n",
      " 3   gia                  2435 non-null   object \n",
      " 4   giay_to_phap_ly      2127 non-null   object \n",
      " 5   so_phong_ngu         1425 non-null   float64\n",
      " 6   so_phong_ve_sinh     1320 non-null   float64\n",
      " 7   tinh_trang_noi_that  1400 non-null   object \n",
      " 8   link                 2436 non-null   object \n",
      "dtypes: float64(2), object(7)\n",
      "memory usage: 171.4+ KB\n"
     ]
    }
   ],
   "source": [
    "df = pd.read_csv(\"bds.csv\")\n",
    "df.info()"
   ]
  },
  {
   "cell_type": "code",
   "execution_count": 550,
   "id": "09020294",
   "metadata": {},
   "outputs": [
    {
     "data": {
      "text/html": [
       "<div>\n",
       "<style scoped>\n",
       "    .dataframe tbody tr th:only-of-type {\n",
       "        vertical-align: middle;\n",
       "    }\n",
       "\n",
       "    .dataframe tbody tr th {\n",
       "        vertical-align: top;\n",
       "    }\n",
       "\n",
       "    .dataframe thead th {\n",
       "        text-align: right;\n",
       "    }\n",
       "</style>\n",
       "<table border=\"1\" class=\"dataframe\">\n",
       "  <thead>\n",
       "    <tr style=\"text-align: right;\">\n",
       "      <th></th>\n",
       "      <th>Ngày đăng</th>\n",
       "      <th>Loại hình</th>\n",
       "      <th>Diện tích (m²)</th>\n",
       "      <th>Giá (tỷ)</th>\n",
       "      <th>Giấy tờ pháp lý</th>\n",
       "      <th>Số phòng ngủ</th>\n",
       "      <th>Số phòng vệ sinh</th>\n",
       "      <th>Tình trạng nội thất</th>\n",
       "      <th>Link</th>\n",
       "    </tr>\n",
       "  </thead>\n",
       "  <tbody>\n",
       "    <tr>\n",
       "      <th>0</th>\n",
       "      <td>09/10/2025</td>\n",
       "      <td>Chung cư mini, căn hộ dịch vụ tại đường 1</td>\n",
       "      <td>49 m²</td>\n",
       "      <td>1,55 tỷ</td>\n",
       "      <td>Sổ đỏ/ Sổ hồng</td>\n",
       "      <td>2.0</td>\n",
       "      <td>1.0</td>\n",
       "      <td>Cơ bản</td>\n",
       "      <td>https://batdongsan.com.vn/ban-can-ho-chung-cu-...</td>\n",
       "    </tr>\n",
       "    <tr>\n",
       "      <th>1</th>\n",
       "      <td>21/10/2025</td>\n",
       "      <td>Chung cư mini, căn hộ dịch vụ tại đường 10A</td>\n",
       "      <td>37 m²</td>\n",
       "      <td>1,79 tỷ</td>\n",
       "      <td>Sổ đỏ/ Sổ hồng</td>\n",
       "      <td>2.0</td>\n",
       "      <td>NaN</td>\n",
       "      <td>Đầy đủ</td>\n",
       "      <td>https://batdongsan.com.vn/ban-can-ho-chung-cu-...</td>\n",
       "    </tr>\n",
       "    <tr>\n",
       "      <th>2</th>\n",
       "      <td>21/10/2025</td>\n",
       "      <td>Chung cư mini, căn hộ dịch vụ tại đường 10B</td>\n",
       "      <td>43 m²</td>\n",
       "      <td>1,77 tỷ</td>\n",
       "      <td>Sổ đỏ/ Sổ hồng</td>\n",
       "      <td>2.0</td>\n",
       "      <td>NaN</td>\n",
       "      <td>Đầy đủ</td>\n",
       "      <td>https://batdongsan.com.vn/ban-can-ho-chung-cu-...</td>\n",
       "    </tr>\n",
       "    <tr>\n",
       "      <th>3</th>\n",
       "      <td>21/10/2025</td>\n",
       "      <td>Chung cư mini, căn hộ dịch vụ tại đường 13B</td>\n",
       "      <td>37 m²</td>\n",
       "      <td>1,68 tỷ</td>\n",
       "      <td>đầy đủ.</td>\n",
       "      <td>2.0</td>\n",
       "      <td>NaN</td>\n",
       "      <td>đầy đủ</td>\n",
       "      <td>https://batdongsan.com.vn/ban-can-ho-chung-cu-...</td>\n",
       "    </tr>\n",
       "    <tr>\n",
       "      <th>4</th>\n",
       "      <td>18/10/2025</td>\n",
       "      <td>Chung cư mini, căn hộ dịch vụ tại đường An Dươ...</td>\n",
       "      <td>40 m²</td>\n",
       "      <td>1,42 tỷ</td>\n",
       "      <td>Hợp đồng mua bán</td>\n",
       "      <td>1.0</td>\n",
       "      <td>1.0</td>\n",
       "      <td>Đầy đủ</td>\n",
       "      <td>https://batdongsan.com.vn/ban-can-ho-chung-cu-...</td>\n",
       "    </tr>\n",
       "  </tbody>\n",
       "</table>\n",
       "</div>"
      ],
      "text/plain": [
       "    Ngày đăng                                          Loại hình  \\\n",
       "0  09/10/2025          Chung cư mini, căn hộ dịch vụ tại đường 1   \n",
       "1  21/10/2025        Chung cư mini, căn hộ dịch vụ tại đường 10A   \n",
       "2  21/10/2025        Chung cư mini, căn hộ dịch vụ tại đường 10B   \n",
       "3  21/10/2025        Chung cư mini, căn hộ dịch vụ tại đường 13B   \n",
       "4  18/10/2025  Chung cư mini, căn hộ dịch vụ tại đường An Dươ...   \n",
       "\n",
       "  Diện tích (m²) Giá (tỷ)   Giấy tờ pháp lý  Số phòng ngủ  Số phòng vệ sinh  \\\n",
       "0          49 m²  1,55 tỷ    Sổ đỏ/ Sổ hồng           2.0               1.0   \n",
       "1          37 m²  1,79 tỷ    Sổ đỏ/ Sổ hồng           2.0               NaN   \n",
       "2          43 m²  1,77 tỷ    Sổ đỏ/ Sổ hồng           2.0               NaN   \n",
       "3          37 m²  1,68 tỷ           đầy đủ.           2.0               NaN   \n",
       "4          40 m²  1,42 tỷ  Hợp đồng mua bán           1.0               1.0   \n",
       "\n",
       "  Tình trạng nội thất                                               Link  \n",
       "0              Cơ bản  https://batdongsan.com.vn/ban-can-ho-chung-cu-...  \n",
       "1              Đầy đủ  https://batdongsan.com.vn/ban-can-ho-chung-cu-...  \n",
       "2              Đầy đủ  https://batdongsan.com.vn/ban-can-ho-chung-cu-...  \n",
       "3              đầy đủ  https://batdongsan.com.vn/ban-can-ho-chung-cu-...  \n",
       "4              Đầy đủ  https://batdongsan.com.vn/ban-can-ho-chung-cu-...  "
      ]
     },
     "execution_count": 550,
     "metadata": {},
     "output_type": "execute_result"
    }
   ],
   "source": [
    "df.rename(columns={\n",
    "    'ngay_dang': 'Ngày đăng',\n",
    "    'loai_hinh': 'Loại hình',\n",
    "    'dien_tich': 'Diện tích (m²)',\n",
    "    'gia': 'Giá (tỷ)',\n",
    "    'giay_to_phap_ly': 'Giấy tờ pháp lý',\n",
    "    'so_phong_ngu': 'Số phòng ngủ',\n",
    "    'so_phong_ve_sinh': 'Số phòng vệ sinh',\n",
    "    'tinh_trang_noi_that': 'Tình trạng nội thất',\n",
    "    'link': 'Link'\n",
    "}, inplace=True)\n",
    "df.head()"
   ]
  },
  {
   "cell_type": "code",
   "execution_count": 551,
   "id": "c67689f6",
   "metadata": {},
   "outputs": [
    {
     "data": {
      "text/plain": [
       "(2435, 9)"
      ]
     },
     "execution_count": 551,
     "metadata": {},
     "output_type": "execute_result"
    }
   ],
   "source": [
    "df = df.dropna(thresh=4)\n",
    "df.shape"
   ]
  },
  {
   "cell_type": "markdown",
   "id": "770472d0",
   "metadata": {},
   "source": [
    "# Làm sạch dữ liệu"
   ]
  },
  {
   "cell_type": "markdown",
   "id": "a0981666",
   "metadata": {},
   "source": [
    "## Loại hình nhà"
   ]
  },
  {
   "cell_type": "markdown",
   "id": "9bf160f8",
   "metadata": {},
   "source": [
    "### Quy về các loại nhà: Nhà riêng, Nhà mặt phố, Chung cư, Shophouse, Biệt thự"
   ]
  },
  {
   "cell_type": "code",
   "execution_count": 552,
   "id": "943dbea2",
   "metadata": {},
   "outputs": [],
   "source": [
    "def clean_property_type(value):\n",
    "    text = str(value).lower().strip()\n",
    "\n",
    "    if \"nhà mặt phố\" in text:\n",
    "        return \"Nhà mặt phố\"\n",
    "    \n",
    "    elif \"chung cư\" in text or \"căn hộ\" in text or \"apartment\" in text:\n",
    "        return \"Chung cư\"\n",
    "\n",
    "    elif \"shophouse\" in text or \"nhà phố thương mại\" in text:\n",
    "        return \"Shophouse\"\n",
    "\n",
    "    elif \"biệt thự\" in text or \"villa\" in text:\n",
    "        return \"Biệt thự\"\n",
    "\n",
    "    elif \"nhà riêng\" in text:\n",
    "        return \"Nhà riêng\"\n",
    "    \n",
    "    else:\n",
    "        return \"Khác\""
   ]
  },
  {
   "cell_type": "code",
   "execution_count": 553,
   "id": "d256c0fe",
   "metadata": {},
   "outputs": [
    {
     "data": {
      "text/plain": [
       "Loại hình\n",
       "Nhà mặt phố    705\n",
       "Shophouse      699\n",
       "Nhà riêng      690\n",
       "Chung cư       341\n",
       "Name: count, dtype: int64"
      ]
     },
     "execution_count": 553,
     "metadata": {},
     "output_type": "execute_result"
    }
   ],
   "source": [
    "df['Loại hình'] = df['Loại hình'].apply(clean_property_type)\n",
    "df['Loại hình'].value_counts()"
   ]
  },
  {
   "cell_type": "markdown",
   "id": "2d0ef31d",
   "metadata": {},
   "source": [
    "## Diện tích"
   ]
  },
  {
   "cell_type": "markdown",
   "id": "46fcf1ff",
   "metadata": {},
   "source": [
    "### Đưa diện tích từ kiểu Object về Float"
   ]
  },
  {
   "cell_type": "code",
   "execution_count": 554,
   "id": "bc83d742",
   "metadata": {},
   "outputs": [],
   "source": [
    "def convert_area(value):\n",
    "    text = str(value).lower().replace(\"m²\", \"\").replace(\"m2\", \"\").strip()\n",
    "    text = text.replace(\",\", \".\")\n",
    "    match = re.search(r'\\d+(\\.\\d+)?', text)\n",
    "    if not match:\n",
    "        return np.nan\n",
    "    \n",
    "    num = float(match.group())\n",
    "    return num"
   ]
  },
  {
   "cell_type": "code",
   "execution_count": 555,
   "id": "d580600f",
   "metadata": {},
   "outputs": [
    {
     "name": "stdout",
     "output_type": "stream",
     "text": [
      "Diện tích (m²)\n",
      "50.0     127\n",
      "100.0    111\n",
      "75.0      71\n",
      "40.0      70\n",
      "60.0      69\n",
      "        ... \n",
      "155.2      1\n",
      "82.3       1\n",
      "247.0      1\n",
      "73.8       1\n",
      "654.0      1\n",
      "Name: count, Length: 427, dtype: int64\n"
     ]
    }
   ],
   "source": [
    "df[\"Diện tích (m²)\"] = df[\"Diện tích (m²)\"].apply(convert_area)\n",
    "print(df[\"Diện tích (m²)\"].value_counts())"
   ]
  },
  {
   "cell_type": "markdown",
   "id": "2eb06662",
   "metadata": {},
   "source": [
    "## Giá nhà"
   ]
  },
  {
   "cell_type": "markdown",
   "id": "b54fb1b9",
   "metadata": {},
   "source": [
    "### - Đưa giá nhà từ kiểu Object về Float\n",
    "### - Đồng nhất đơn vị là tỷ"
   ]
  },
  {
   "cell_type": "code",
   "execution_count": 556,
   "id": "185ec139",
   "metadata": {},
   "outputs": [],
   "source": [
    "def convert_price(value):\n",
    "    text = str(value).lower().strip()\n",
    "    text = text.replace(\",\", \".\")\n",
    "    match = re.search(r'\\d+(\\.\\d+)?', text)\n",
    "    if not match:\n",
    "        return np.nan\n",
    "\n",
    "    num = float(match.group())\n",
    "\n",
    "    # Đổi triệu sang tỷ\n",
    "    if \"triệu\" in text:\n",
    "        num = num / 1000  \n",
    "    elif \"tỷ\" in text or \"ty\" in text:\n",
    "        num = num \n",
    "    else:\n",
    "        num = num / 1000\n",
    "\n",
    "    return round(num, 2) "
   ]
  },
  {
   "cell_type": "code",
   "execution_count": 557,
   "id": "066d91ec",
   "metadata": {},
   "outputs": [
    {
     "name": "stdout",
     "output_type": "stream",
     "text": [
      "Giá (tỷ)\n",
      "32.00     21\n",
      "18.00     20\n",
      "13.50     20\n",
      "12.50     18\n",
      "36.00     18\n",
      "          ..\n",
      "106.32     1\n",
      "32.07      1\n",
      "78.90      1\n",
      "0.38       1\n",
      "0.06       1\n",
      "Name: count, Length: 699, dtype: int64\n"
     ]
    }
   ],
   "source": [
    "df[\"Giá (tỷ)\"] = df[\"Giá (tỷ)\"].apply(convert_price)\n",
    "print(df[\"Giá (tỷ)\"].value_counts())"
   ]
  },
  {
   "cell_type": "markdown",
   "id": "69750f4f",
   "metadata": {},
   "source": [
    "## Giấy tờ pháp lý"
   ]
  },
  {
   "cell_type": "code",
   "execution_count": 558,
   "id": "19294369",
   "metadata": {},
   "outputs": [
    {
     "data": {
      "text/plain": [
       "0         sổ đỏ/ sổ hồng\n",
       "1         sổ đỏ/ sổ hồng\n",
       "2         sổ đỏ/ sổ hồng\n",
       "3                 đầy đủ\n",
       "4       hợp đồng mua bán\n",
       "              ...       \n",
       "2431                 NaN\n",
       "2432    hợp đồng mua bán\n",
       "2433    hợp đồng mua bán\n",
       "2434      sổ đỏ/ sổ hồng\n",
       "2435      sổ đỏ/ sổ hồng\n",
       "Name: Giấy tờ pháp lý, Length: 2435, dtype: object"
      ]
     },
     "execution_count": 558,
     "metadata": {},
     "output_type": "execute_result"
    }
   ],
   "source": [
    "def clean_text(text):\n",
    "    if pd.isna(text):\n",
    "        return np.nan\n",
    "    text = str(text).lower()\n",
    "    text = re.sub(r'[.,;!]', '', text)  # xóa dấu chấm, phẩy\n",
    "    text = text.strip()\n",
    "    return text\n",
    "\n",
    "# Áp dụng làm sạch\n",
    "df['Giấy tờ pháp lý'] = df['Giấy tờ pháp lý'].apply(clean_text)\n",
    "df['Giấy tờ pháp lý']"
   ]
  },
  {
   "cell_type": "code",
   "execution_count": 559,
   "id": "2b0484b9",
   "metadata": {},
   "outputs": [
    {
     "data": {
      "text/plain": [
       "Giấy tờ pháp lý\n",
       "Sổ đỏ/ Sổ hồng         1569\n",
       "Không rõ                308\n",
       "Sổ đỏ                   232\n",
       "Hợp đồng mua bán        182\n",
       "Khác                    100\n",
       "Sổ hồng                  22\n",
       "Đang chờ sổ              18\n",
       "Đầy đủ pháp lý khác       4\n",
       "Name: count, dtype: int64"
      ]
     },
     "execution_count": 559,
     "metadata": {},
     "output_type": "execute_result"
    }
   ],
   "source": [
    "def categorize_legal(doc):\n",
    "    if pd.isna(doc):\n",
    "        return \"Không rõ\"\n",
    "    if \"sổ đỏ/ sổ hồng\" in doc:\n",
    "        return \"Sổ đỏ/ Sổ hồng\"\n",
    "    elif \"sổ đỏ\" in doc:\n",
    "        return \"Sổ đỏ\"\n",
    "    elif \"sổ hồng\" in doc:\n",
    "        return \"Sổ hồng\"\n",
    "    elif \"hợp đồng mua bán\" in doc:\n",
    "        return \"Hợp đồng mua bán\"\n",
    "    elif \"chờ sổ\" in doc:\n",
    "        return \"Đang chờ sổ\"\n",
    "    elif \"giấy phép xây dựng\" in doc or \"pccc\" in doc:\n",
    "        return \"Đầy đủ pháp lý khác\"\n",
    "    else:\n",
    "        return \"Khác\"  \n",
    "df['Giấy tờ pháp lý'] = df['Giấy tờ pháp lý'].apply(categorize_legal)\n",
    "df['Giấy tờ pháp lý'].value_counts()"
   ]
  },
  {
   "cell_type": "markdown",
   "id": "17ef5419",
   "metadata": {},
   "source": [
    "## Phòng ngủ"
   ]
  },
  {
   "cell_type": "code",
   "execution_count": 560,
   "id": "1bcd41cd",
   "metadata": {},
   "outputs": [
    {
     "name": "stderr",
     "output_type": "stream",
     "text": [
      "C:\\Users\\ACER\\AppData\\Local\\Temp\\ipykernel_22968\\2842862189.py:3: FutureWarning: A value is trying to be set on a copy of a DataFrame or Series through chained assignment using an inplace method.\n",
      "The behavior will change in pandas 3.0. This inplace method will never work because the intermediate object on which we are setting values always behaves as a copy.\n",
      "\n",
      "For example, when doing 'df[col].method(value, inplace=True)', try using 'df.method({col: value}, inplace=True)' or df[col] = df[col].method(value) instead, to perform the operation inplace on the original object.\n",
      "\n",
      "\n",
      "  df[\"Số phòng ngủ\"].fillna(mean_bed, inplace=True)\n"
     ]
    }
   ],
   "source": [
    "df[\"Số phòng ngủ\"] = df[\"Số phòng ngủ\"].round().astype(\"Int64\")\n",
    "mean_bed = round(df[\"Số phòng ngủ\"].mean(skipna=True))\n",
    "df[\"Số phòng ngủ\"].fillna(mean_bed, inplace=True)"
   ]
  },
  {
   "cell_type": "code",
   "execution_count": 561,
   "id": "3af3f8c5",
   "metadata": {},
   "outputs": [
    {
     "data": {
      "text/plain": [
       "Số phòng ngủ\n",
       "6    1144\n",
       "4     268\n",
       "2     236\n",
       "3     202\n",
       "5     177\n",
       "Name: count, dtype: Int64"
      ]
     },
     "execution_count": 561,
     "metadata": {},
     "output_type": "execute_result"
    }
   ],
   "source": [
    "df[\"Số phòng ngủ\"].value_counts().head()"
   ]
  },
  {
   "cell_type": "markdown",
   "id": "987e8a85",
   "metadata": {},
   "source": [
    "## Phòng vệ sinh"
   ]
  },
  {
   "cell_type": "code",
   "execution_count": 562,
   "id": "bf1e32f9",
   "metadata": {},
   "outputs": [
    {
     "name": "stderr",
     "output_type": "stream",
     "text": [
      "C:\\Users\\ACER\\AppData\\Local\\Temp\\ipykernel_22968\\3885926590.py:3: FutureWarning: A value is trying to be set on a copy of a DataFrame or Series through chained assignment using an inplace method.\n",
      "The behavior will change in pandas 3.0. This inplace method will never work because the intermediate object on which we are setting values always behaves as a copy.\n",
      "\n",
      "For example, when doing 'df[col].method(value, inplace=True)', try using 'df.method({col: value}, inplace=True)' or df[col] = df[col].method(value) instead, to perform the operation inplace on the original object.\n",
      "\n",
      "\n",
      "  df[\"Số phòng vệ sinh\"].fillna(mean_wc , inplace=True)\n"
     ]
    }
   ],
   "source": [
    "df[\"Số phòng vệ sinh\"] = df[\"Số phòng vệ sinh\"].round().astype(\"Int64\")\n",
    "mean_wc  = round(df[\"Số phòng vệ sinh\"].mean(skipna=True))\n",
    "df[\"Số phòng vệ sinh\"].fillna(mean_wc , inplace=True)"
   ]
  },
  {
   "cell_type": "code",
   "execution_count": 563,
   "id": "a5bd2d8e",
   "metadata": {},
   "outputs": [
    {
     "data": {
      "text/plain": [
       "Số phòng vệ sinh\n",
       "6    1192\n",
       "4     280\n",
       "1     253\n",
       "5     168\n",
       "3     160\n",
       "Name: count, dtype: Int64"
      ]
     },
     "execution_count": 563,
     "metadata": {},
     "output_type": "execute_result"
    }
   ],
   "source": [
    "df[\"Số phòng vệ sinh\"].value_counts().head()"
   ]
  },
  {
   "cell_type": "markdown",
   "id": "8821ae79",
   "metadata": {},
   "source": [
    "## Tình trạng nội thất"
   ]
  },
  {
   "cell_type": "code",
   "execution_count": 564,
   "id": "7cf61f46",
   "metadata": {},
   "outputs": [
    {
     "data": {
      "text/plain": [
       "Tình trạng nội thất\n",
       "Đầy đủ                                                    776\n",
       "Cơ bản                                                    346\n",
       "Không nội thất                                            129\n",
       "Full nội thất                                              32\n",
       "đầy đủ                                                     23\n",
       "                                                         ... \n",
       "cao cấp Luxuryk khách mua có thể cho thuê hoặc ở luôn.      1\n",
       "Bàn giao hoàn thiện mặt ngoài, thô bên trong                1\n",
       "Hoàn thiện mặt ngoài, bên trong bàn giao thô                1\n",
       "nhập khẩu châu Âu đẳng cấp.                                 1\n",
       "Bàn giao thô.                                               1\n",
       "Name: count, Length: 71, dtype: int64"
      ]
     },
     "execution_count": 564,
     "metadata": {},
     "output_type": "execute_result"
    }
   ],
   "source": [
    "df[\"Tình trạng nội thất\"].value_counts()"
   ]
  },
  {
   "cell_type": "code",
   "execution_count": 565,
   "id": "2f7bdadd",
   "metadata": {},
   "outputs": [],
   "source": [
    "def clean_interior(value):\n",
    "    if pd.isna(value):\n",
    "        return \"Không rõ\"\n",
    "    \n",
    "    text = str(value).lower().strip()\n",
    "\n",
    "    if \"đầy đủ\" in text or \"full\" in text or \"đủ nội thất\" in text or \"full đồ\" in text:\n",
    "        return \"Đầy đủ\"\n",
    "    elif \"cơ bản\" in text:\n",
    "        return \"Cơ bản\"\n",
    "    elif \"không\" in text and \"nội thất\" in text:\n",
    "        return \"Không nội thất\"\n",
    "    elif \"thô\" in text or \"bàn giao thô\" in text:\n",
    "        return \"Bàn giao thô\"\n",
    "    else:\n",
    "        return \"Khác\"\n",
    "    "
   ]
  },
  {
   "cell_type": "code",
   "execution_count": 566,
   "id": "b43135af",
   "metadata": {},
   "outputs": [
    {
     "data": {
      "text/plain": [
       "Tình trạng nội thất\n",
       "Không rõ          1035\n",
       "Đầy đủ             845\n",
       "Cơ bản             359\n",
       "Không nội thất     130\n",
       "Khác                59\n",
       "Bàn giao thô         7\n",
       "Name: count, dtype: int64"
      ]
     },
     "execution_count": 566,
     "metadata": {},
     "output_type": "execute_result"
    }
   ],
   "source": [
    "df[\"Tình trạng nội thất\"] = df[\"Tình trạng nội thất\"].apply(clean_interior)\n",
    "df[\"Tình trạng nội thất\"].value_counts()"
   ]
  },
  {
   "cell_type": "code",
   "execution_count": 567,
   "id": "8b215bf7",
   "metadata": {},
   "outputs": [
    {
     "name": "stdout",
     "output_type": "stream",
     "text": [
      "<class 'pandas.core.frame.DataFrame'>\n",
      "Index: 2435 entries, 0 to 2435\n",
      "Data columns (total 9 columns):\n",
      " #   Column               Non-Null Count  Dtype  \n",
      "---  ------               --------------  -----  \n",
      " 0   Ngày đăng            2435 non-null   object \n",
      " 1   Loại hình            2435 non-null   object \n",
      " 2   Diện tích (m²)       2435 non-null   float64\n",
      " 3   Giá (tỷ)             2112 non-null   float64\n",
      " 4   Giấy tờ pháp lý      2435 non-null   object \n",
      " 5   Số phòng ngủ         2435 non-null   Int64  \n",
      " 6   Số phòng vệ sinh     2435 non-null   Int64  \n",
      " 7   Tình trạng nội thất  2435 non-null   object \n",
      " 8   Link                 2435 non-null   object \n",
      "dtypes: Int64(2), float64(2), object(5)\n",
      "memory usage: 195.0+ KB\n"
     ]
    }
   ],
   "source": [
    "df.info()"
   ]
  },
  {
   "cell_type": "markdown",
   "id": "8ef1ed5d",
   "metadata": {},
   "source": [
    "# Xử lý ngoại lai"
   ]
  },
  {
   "cell_type": "code",
   "execution_count": 568,
   "id": "cb948e69",
   "metadata": {},
   "outputs": [],
   "source": [
    "import matplotlib.pyplot as plt\n",
    "import seaborn as sns"
   ]
  },
  {
   "cell_type": "code",
   "execution_count": 569,
   "id": "bc12d59b",
   "metadata": {},
   "outputs": [
    {
     "data": {
      "image/png": "[encoded data removed]",
      "text/plain": [
       "<Figure size 1000x500 with 1 Axes>"
      ]
     },
     "metadata": {},
     "output_type": "display_data"
    }
   ],
   "source": [
    "plt.figure(figsize=(10, 5))\n",
    "sns.boxplot(data=df.select_dtypes(include=[\"float64\", \"int64\"]))\n",
    "plt.title(\"Dữ liệu trước khi xử lý ngoại lai\")\n",
    "plt.show()"
   ]
  },
  {
   "cell_type": "code",
   "execution_count": 570,
   "id": "c9b7eac9",
   "metadata": {},
   "outputs": [],
   "source": [
    "def handle_outliers(df, factor=1.5):\n",
    "    df_clean = df.copy()\n",
    "    \n",
    "    # Chỉ xử lý các cột dạng số\n",
    "    numeric_cols = df_clean.select_dtypes(include=[\"float64\", \"int64\"]).columns\n",
    "    \n",
    "    for col in numeric_cols:\n",
    "        Q1 = df_clean[col].quantile(0.25)\n",
    "        Q3 = df_clean[col].quantile(0.75)\n",
    "        IQR = Q3 - Q1\n",
    "        lower_bound = Q1 - factor * IQR\n",
    "        upper_bound = Q3 + factor * IQR\n",
    "\n",
    "        df_clean = df_clean[(df_clean[col] >= lower_bound) & (df_clean[col] <= upper_bound)]\n",
    "    \n",
    "    return df_clean\n"
   ]
  },
  {
   "cell_type": "code",
   "execution_count": 571,
   "id": "af021b4e",
   "metadata": {},
   "outputs": [
    {
     "name": "stdout",
     "output_type": "stream",
     "text": [
      "Trước khi xử lý: (2435, 9)\n",
      "Sau khi xử lý: (1691, 9)\n"
     ]
    }
   ],
   "source": [
    "print(\"Trước khi xử lý:\", df.shape)\n",
    "df_clean = handle_outliers(df)\n",
    "print(\"Sau khi xử lý:\", df_clean.shape)\n"
   ]
  },
  {
   "cell_type": "code",
   "execution_count": 572,
   "id": "423a167c",
   "metadata": {},
   "outputs": [
    {
     "data": {
      "image/png": "[encoded data removed]",
      "text/plain": [
       "<Figure size 1000x500 with 1 Axes>"
      ]
     },
     "metadata": {},
     "output_type": "display_data"
    }
   ],
   "source": [
    "plt.figure(figsize=(10, 5))\n",
    "sns.boxplot(data=df_clean.select_dtypes(include=[\"float64\", \"int64\"]))\n",
    "plt.title(\"Dữ liệu sau khi xử lý ngoại lai\")\n",
    "plt.show()\n"
   ]
  },
  {
   "cell_type": "code",
   "execution_count": 573,
   "id": "071b4b1b",
   "metadata": {},
   "outputs": [],
   "source": [
    "df_clean.to_csv(\"bds_clean.csv\", index=False, encoding=\"utf-8-sig\")\n"
   ]
  },
  {
   "cell_type": "markdown",
   "id": "30e10168",
   "metadata": {},
   "source": [
    "# Chuẩn hóa dữ liệu"
   ]
  },
  {
   "cell_type": "code",
   "execution_count": 574,
   "id": "b66dabd9",
   "metadata": {},
   "outputs": [
    {
     "data": {
      "text/html": [
       "<div>\n",
       "<style scoped>\n",
       "    .dataframe tbody tr th:only-of-type {\n",
       "        vertical-align: middle;\n",
       "    }\n",
       "\n",
       "    .dataframe tbody tr th {\n",
       "        vertical-align: top;\n",
       "    }\n",
       "\n",
       "    .dataframe thead th {\n",
       "        text-align: right;\n",
       "    }\n",
       "</style>\n",
       "<table border=\"1\" class=\"dataframe\">\n",
       "  <thead>\n",
       "    <tr style=\"text-align: right;\">\n",
       "      <th></th>\n",
       "      <th>Ngày đăng</th>\n",
       "      <th>Loại hình</th>\n",
       "      <th>Diện tích (m²)</th>\n",
       "      <th>Giá (tỷ)</th>\n",
       "      <th>Giấy tờ pháp lý</th>\n",
       "      <th>Số phòng ngủ</th>\n",
       "      <th>Số phòng vệ sinh</th>\n",
       "      <th>Tình trạng nội thất</th>\n",
       "      <th>Link</th>\n",
       "    </tr>\n",
       "  </thead>\n",
       "  <tbody>\n",
       "    <tr>\n",
       "      <th>0</th>\n",
       "      <td>09/10/2025</td>\n",
       "      <td>Chung cư</td>\n",
       "      <td>0.239869</td>\n",
       "      <td>1.55</td>\n",
       "      <td>Sổ đỏ/ Sổ hồng</td>\n",
       "      <td>0.111111</td>\n",
       "      <td>0.000000</td>\n",
       "      <td>Cơ bản</td>\n",
       "      <td>https://batdongsan.com.vn/ban-can-ho-chung-cu-...</td>\n",
       "    </tr>\n",
       "    <tr>\n",
       "      <th>1</th>\n",
       "      <td>21/10/2025</td>\n",
       "      <td>Chung cư</td>\n",
       "      <td>0.179461</td>\n",
       "      <td>1.79</td>\n",
       "      <td>Sổ đỏ/ Sổ hồng</td>\n",
       "      <td>0.111111</td>\n",
       "      <td>0.555556</td>\n",
       "      <td>Đầy đủ</td>\n",
       "      <td>https://batdongsan.com.vn/ban-can-ho-chung-cu-...</td>\n",
       "    </tr>\n",
       "    <tr>\n",
       "      <th>2</th>\n",
       "      <td>21/10/2025</td>\n",
       "      <td>Chung cư</td>\n",
       "      <td>0.209665</td>\n",
       "      <td>1.77</td>\n",
       "      <td>Sổ đỏ/ Sổ hồng</td>\n",
       "      <td>0.111111</td>\n",
       "      <td>0.555556</td>\n",
       "      <td>Đầy đủ</td>\n",
       "      <td>https://batdongsan.com.vn/ban-can-ho-chung-cu-...</td>\n",
       "    </tr>\n",
       "    <tr>\n",
       "      <th>3</th>\n",
       "      <td>21/10/2025</td>\n",
       "      <td>Chung cư</td>\n",
       "      <td>0.179461</td>\n",
       "      <td>1.68</td>\n",
       "      <td>Khác</td>\n",
       "      <td>0.111111</td>\n",
       "      <td>0.555556</td>\n",
       "      <td>Đầy đủ</td>\n",
       "      <td>https://batdongsan.com.vn/ban-can-ho-chung-cu-...</td>\n",
       "    </tr>\n",
       "    <tr>\n",
       "      <th>4</th>\n",
       "      <td>18/10/2025</td>\n",
       "      <td>Chung cư</td>\n",
       "      <td>0.194563</td>\n",
       "      <td>1.42</td>\n",
       "      <td>Hợp đồng mua bán</td>\n",
       "      <td>0.000000</td>\n",
       "      <td>0.000000</td>\n",
       "      <td>Đầy đủ</td>\n",
       "      <td>https://batdongsan.com.vn/ban-can-ho-chung-cu-...</td>\n",
       "    </tr>\n",
       "  </tbody>\n",
       "</table>\n",
       "</div>"
      ],
      "text/plain": [
       "    Ngày đăng Loại hình  Diện tích (m²)  Giá (tỷ)   Giấy tờ pháp lý  \\\n",
       "0  09/10/2025  Chung cư        0.239869      1.55    Sổ đỏ/ Sổ hồng   \n",
       "1  21/10/2025  Chung cư        0.179461      1.79    Sổ đỏ/ Sổ hồng   \n",
       "2  21/10/2025  Chung cư        0.209665      1.77    Sổ đỏ/ Sổ hồng   \n",
       "3  21/10/2025  Chung cư        0.179461      1.68              Khác   \n",
       "4  18/10/2025  Chung cư        0.194563      1.42  Hợp đồng mua bán   \n",
       "\n",
       "   Số phòng ngủ  Số phòng vệ sinh Tình trạng nội thất  \\\n",
       "0      0.111111          0.000000              Cơ bản   \n",
       "1      0.111111          0.555556              Đầy đủ   \n",
       "2      0.111111          0.555556              Đầy đủ   \n",
       "3      0.111111          0.555556              Đầy đủ   \n",
       "4      0.000000          0.000000              Đầy đủ   \n",
       "\n",
       "                                                Link  \n",
       "0  https://batdongsan.com.vn/ban-can-ho-chung-cu-...  \n",
       "1  https://batdongsan.com.vn/ban-can-ho-chung-cu-...  \n",
       "2  https://batdongsan.com.vn/ban-can-ho-chung-cu-...  \n",
       "3  https://batdongsan.com.vn/ban-can-ho-chung-cu-...  \n",
       "4  https://batdongsan.com.vn/ban-can-ho-chung-cu-...  "
      ]
     },
     "execution_count": 574,
     "metadata": {},
     "output_type": "execute_result"
    }
   ],
   "source": [
    "from sklearn.preprocessing import MinMaxScaler\n",
    "\n",
    "cols_scale = [\"Diện tích (m²)\", \"Số phòng ngủ\", \"Số phòng vệ sinh\"]\n",
    "scaler = MinMaxScaler()\n",
    "df_scaled = df_clean.copy()\n",
    "df_scaled[cols_scale] = scaler.fit_transform(df_clean[cols_scale])\n",
    "\n",
    "df_scaled.head()\n"
   ]
  },
  {
   "cell_type": "code",
   "execution_count": 575,
   "id": "f3e75c60",
   "metadata": {},
   "outputs": [],
   "source": [
    "import matplotlib.pyplot as plt\n",
    "import seaborn as sns\n"
   ]
  },
  {
   "cell_type": "code",
   "execution_count": 576,
   "id": "01793bce",
   "metadata": {},
   "outputs": [
    {
     "data": {
      "image/png": "[encoded data removed]",
      "text/plain": [
       "<Figure size 1200x500 with 2 Axes>"
      ]
     },
     "metadata": {},
     "output_type": "display_data"
    }
   ],
   "source": [
    "fig, axes = plt.subplots(1, 2, figsize=(12, 5))\n",
    "sns.kdeplot(df_clean[\"Diện tích (m²)\"], ax=axes[0], color=\"blue\")\n",
    "axes[0].set_title(\"Trước chuẩn hóa\")\n",
    "sns.kdeplot(df_scaled[\"Diện tích (m²)\"], ax=axes[1], color=\"green\")\n",
    "axes[1].set_title(\"Sau chuẩn hóa (MinMax)\")\n",
    "plt.show()"
   ]
  },
  {
   "cell_type": "code",
   "execution_count": 577,
   "id": "85fa5089",
   "metadata": {},
   "outputs": [
    {
     "data": {
      "image/png": "[encoded data removed]",
      "text/plain": [
       "<Figure size 1200x500 with 2 Axes>"
      ]
     },
     "metadata": {},
     "output_type": "display_data"
    }
   ],
   "source": [
    "fig, axes = plt.subplots(1, 2, figsize=(12, 5))\n",
    "sns.kdeplot(df_clean[\"Số phòng ngủ\"], ax=axes[0], color=\"blue\")\n",
    "axes[0].set_title(\"Trước chuẩn hóa\")\n",
    "sns.kdeplot(df_scaled[\"Số phòng ngủ\"], ax=axes[1], color=\"green\")\n",
    "axes[1].set_title(\"Sau chuẩn hóa (MinMax)\")\n",
    "plt.show()"
   ]
  },
  {
   "cell_type": "code",
   "execution_count": 578,
   "id": "d584cbd7",
   "metadata": {},
   "outputs": [
    {
     "data": {
      "image/png": "[encoded data removed]",
      "text/plain": [
       "<Figure size 1200x500 with 2 Axes>"
      ]
     },
     "metadata": {},
     "output_type": "display_data"
    }
   ],
   "source": [
    "fig, axes = plt.subplots(1, 2, figsize=(12, 5))\n",
    "sns.kdeplot(df_clean[\"Số phòng vệ sinh\"], ax=axes[0], color=\"blue\")\n",
    "axes[0].set_title(\"Trước chuẩn hóa\")\n",
    "sns.kdeplot(df_scaled[\"Số phòng vệ sinh\"], ax=axes[1], color=\"green\")\n",
    "axes[1].set_title(\"Sau chuẩn hóa (MinMax)\")\n",
    "plt.show()"
   ]
  },
  {
   "cell_type": "markdown",
   "id": "a19ca309",
   "metadata": {},
   "source": [
    "# Xây dựng mô hình dự đoán"
   ]
  },
  {
   "cell_type": "code",
   "execution_count": 579,
   "id": "1f760342",
   "metadata": {},
   "outputs": [],
   "source": [
    "from sklearn.preprocessing import LabelEncoder\n",
    "from sklearn.model_selection import train_test_split\n",
    "from sklearn.linear_model import LinearRegression\n",
    "from sklearn.metrics import r2_score, mean_absolute_error, mean_squared_error"
   ]
  },
  {
   "cell_type": "code",
   "execution_count": 580,
   "id": "ad86beb0",
   "metadata": {},
   "outputs": [],
   "source": [
    "le_loai = LabelEncoder()\n",
    "le_phaply = LabelEncoder()\n",
    "le_noithat = LabelEncoder()\n",
    "\n",
    "df[\"Loại hình\"] = df[\"Loại hình\"].astype(str)\n",
    "df[\"Giấy tờ pháp lý\"] = df[\"Giấy tờ pháp lý\"].astype(str)\n",
    "df[\"Tình trạng nội thất\"] = df[\"Tình trạng nội thất\"].astype(str)\n",
    "\n",
    "df[\"Loại hình (encoded)\"] = le_loai.fit_transform(df[\"Loại hình\"])\n",
    "df[\"Giấy tờ pháp lý (encoded)\"] = le_phaply.fit_transform(df[\"Giấy tờ pháp lý\"])\n",
    "df[\"Tình trạng nội thất (encoded)\"] = le_noithat.fit_transform(df[\"Tình trạng nội thất\"])\n"
   ]
  },
  {
   "cell_type": "code",
   "execution_count": 581,
   "id": "b49a3c0b",
   "metadata": {},
   "outputs": [
    {
     "data": {
      "text/html": [
       "<div>\n",
       "<style scoped>\n",
       "    .dataframe tbody tr th:only-of-type {\n",
       "        vertical-align: middle;\n",
       "    }\n",
       "\n",
       "    .dataframe tbody tr th {\n",
       "        vertical-align: top;\n",
       "    }\n",
       "\n",
       "    .dataframe thead th {\n",
       "        text-align: right;\n",
       "    }\n",
       "</style>\n",
       "<table border=\"1\" class=\"dataframe\">\n",
       "  <thead>\n",
       "    <tr style=\"text-align: right;\">\n",
       "      <th></th>\n",
       "      <th>Ngày đăng</th>\n",
       "      <th>Loại hình</th>\n",
       "      <th>Diện tích (m²)</th>\n",
       "      <th>Giá (tỷ)</th>\n",
       "      <th>Giấy tờ pháp lý</th>\n",
       "      <th>Số phòng ngủ</th>\n",
       "      <th>Số phòng vệ sinh</th>\n",
       "      <th>Tình trạng nội thất</th>\n",
       "      <th>Link</th>\n",
       "    </tr>\n",
       "  </thead>\n",
       "  <tbody>\n",
       "    <tr>\n",
       "      <th>0</th>\n",
       "      <td>09/10/2025</td>\n",
       "      <td>Chung cư</td>\n",
       "      <td>0.239869</td>\n",
       "      <td>1.55</td>\n",
       "      <td>Sổ đỏ/ Sổ hồng</td>\n",
       "      <td>0.111111</td>\n",
       "      <td>0.000000</td>\n",
       "      <td>Cơ bản</td>\n",
       "      <td>https://batdongsan.com.vn/ban-can-ho-chung-cu-...</td>\n",
       "    </tr>\n",
       "    <tr>\n",
       "      <th>1</th>\n",
       "      <td>21/10/2025</td>\n",
       "      <td>Chung cư</td>\n",
       "      <td>0.179461</td>\n",
       "      <td>1.79</td>\n",
       "      <td>Sổ đỏ/ Sổ hồng</td>\n",
       "      <td>0.111111</td>\n",
       "      <td>0.555556</td>\n",
       "      <td>Đầy đủ</td>\n",
       "      <td>https://batdongsan.com.vn/ban-can-ho-chung-cu-...</td>\n",
       "    </tr>\n",
       "    <tr>\n",
       "      <th>2</th>\n",
       "      <td>21/10/2025</td>\n",
       "      <td>Chung cư</td>\n",
       "      <td>0.209665</td>\n",
       "      <td>1.77</td>\n",
       "      <td>Sổ đỏ/ Sổ hồng</td>\n",
       "      <td>0.111111</td>\n",
       "      <td>0.555556</td>\n",
       "      <td>Đầy đủ</td>\n",
       "      <td>https://batdongsan.com.vn/ban-can-ho-chung-cu-...</td>\n",
       "    </tr>\n",
       "    <tr>\n",
       "      <th>3</th>\n",
       "      <td>21/10/2025</td>\n",
       "      <td>Chung cư</td>\n",
       "      <td>0.179461</td>\n",
       "      <td>1.68</td>\n",
       "      <td>Khác</td>\n",
       "      <td>0.111111</td>\n",
       "      <td>0.555556</td>\n",
       "      <td>Đầy đủ</td>\n",
       "      <td>https://batdongsan.com.vn/ban-can-ho-chung-cu-...</td>\n",
       "    </tr>\n",
       "    <tr>\n",
       "      <th>4</th>\n",
       "      <td>18/10/2025</td>\n",
       "      <td>Chung cư</td>\n",
       "      <td>0.194563</td>\n",
       "      <td>1.42</td>\n",
       "      <td>Hợp đồng mua bán</td>\n",
       "      <td>0.000000</td>\n",
       "      <td>0.000000</td>\n",
       "      <td>Đầy đủ</td>\n",
       "      <td>https://batdongsan.com.vn/ban-can-ho-chung-cu-...</td>\n",
       "    </tr>\n",
       "    <tr>\n",
       "      <th>...</th>\n",
       "      <td>...</td>\n",
       "      <td>...</td>\n",
       "      <td>...</td>\n",
       "      <td>...</td>\n",
       "      <td>...</td>\n",
       "      <td>...</td>\n",
       "      <td>...</td>\n",
       "      <td>...</td>\n",
       "      <td>...</td>\n",
       "    </tr>\n",
       "    <tr>\n",
       "      <th>2421</th>\n",
       "      <td>22/10/2025</td>\n",
       "      <td>Shophouse</td>\n",
       "      <td>0.194563</td>\n",
       "      <td>3.00</td>\n",
       "      <td>Hợp đồng mua bán</td>\n",
       "      <td>0.555556</td>\n",
       "      <td>0.222222</td>\n",
       "      <td>Không nội thất</td>\n",
       "      <td>https://batdongsan.com.vn/ban-shophouse-nha-ph...</td>\n",
       "    </tr>\n",
       "    <tr>\n",
       "      <th>2422</th>\n",
       "      <td>23/10/2025</td>\n",
       "      <td>Shophouse</td>\n",
       "      <td>0.364712</td>\n",
       "      <td>0.17</td>\n",
       "      <td>Sổ đỏ/ Sổ hồng</td>\n",
       "      <td>0.555556</td>\n",
       "      <td>0.555556</td>\n",
       "      <td>Không nội thất</td>\n",
       "      <td>https://batdongsan.com.vn/ban-shophouse-nha-ph...</td>\n",
       "    </tr>\n",
       "    <tr>\n",
       "      <th>2423</th>\n",
       "      <td>25/10/2025</td>\n",
       "      <td>Shophouse</td>\n",
       "      <td>0.370753</td>\n",
       "      <td>10.00</td>\n",
       "      <td>Sổ đỏ/ Sổ hồng</td>\n",
       "      <td>0.555556</td>\n",
       "      <td>0.555556</td>\n",
       "      <td>Không rõ</td>\n",
       "      <td>https://batdongsan.com.vn/ban-shophouse-nha-ph...</td>\n",
       "    </tr>\n",
       "    <tr>\n",
       "      <th>2425</th>\n",
       "      <td>23/10/2025</td>\n",
       "      <td>Shophouse</td>\n",
       "      <td>0.637553</td>\n",
       "      <td>28.80</td>\n",
       "      <td>Sổ đỏ/ Sổ hồng</td>\n",
       "      <td>0.555556</td>\n",
       "      <td>0.555556</td>\n",
       "      <td>Không rõ</td>\n",
       "      <td>https://batdongsan.com.vn/ban-shophouse-nha-ph...</td>\n",
       "    </tr>\n",
       "    <tr>\n",
       "      <th>2435</th>\n",
       "      <td>25/10/2025</td>\n",
       "      <td>Shophouse</td>\n",
       "      <td>0.340549</td>\n",
       "      <td>11.00</td>\n",
       "      <td>Sổ đỏ/ Sổ hồng</td>\n",
       "      <td>0.555556</td>\n",
       "      <td>0.555556</td>\n",
       "      <td>Không rõ</td>\n",
       "      <td>https://batdongsan.com.vn/ban-shophouse-nha-ph...</td>\n",
       "    </tr>\n",
       "  </tbody>\n",
       "</table>\n",
       "<p>1691 rows × 9 columns</p>\n",
       "</div>"
      ],
      "text/plain": [
       "       Ngày đăng  Loại hình  Diện tích (m²)  Giá (tỷ)   Giấy tờ pháp lý  \\\n",
       "0     09/10/2025   Chung cư        0.239869      1.55    Sổ đỏ/ Sổ hồng   \n",
       "1     21/10/2025   Chung cư        0.179461      1.79    Sổ đỏ/ Sổ hồng   \n",
       "2     21/10/2025   Chung cư        0.209665      1.77    Sổ đỏ/ Sổ hồng   \n",
       "3     21/10/2025   Chung cư        0.179461      1.68              Khác   \n",
       "4     18/10/2025   Chung cư        0.194563      1.42  Hợp đồng mua bán   \n",
       "...          ...        ...             ...       ...               ...   \n",
       "2421  22/10/2025  Shophouse        0.194563      3.00  Hợp đồng mua bán   \n",
       "2422  23/10/2025  Shophouse        0.364712      0.17    Sổ đỏ/ Sổ hồng   \n",
       "2423  25/10/2025  Shophouse        0.370753     10.00    Sổ đỏ/ Sổ hồng   \n",
       "2425  23/10/2025  Shophouse        0.637553     28.80    Sổ đỏ/ Sổ hồng   \n",
       "2435  25/10/2025  Shophouse        0.340549     11.00    Sổ đỏ/ Sổ hồng   \n",
       "\n",
       "      Số phòng ngủ  Số phòng vệ sinh Tình trạng nội thất  \\\n",
       "0         0.111111          0.000000              Cơ bản   \n",
       "1         0.111111          0.555556              Đầy đủ   \n",
       "2         0.111111          0.555556              Đầy đủ   \n",
       "3         0.111111          0.555556              Đầy đủ   \n",
       "4         0.000000          0.000000              Đầy đủ   \n",
       "...            ...               ...                 ...   \n",
       "2421      0.555556          0.222222      Không nội thất   \n",
       "2422      0.555556          0.555556      Không nội thất   \n",
       "2423      0.555556          0.555556            Không rõ   \n",
       "2425      0.555556          0.555556            Không rõ   \n",
       "2435      0.555556          0.555556            Không rõ   \n",
       "\n",
       "                                                   Link  \n",
       "0     https://batdongsan.com.vn/ban-can-ho-chung-cu-...  \n",
       "1     https://batdongsan.com.vn/ban-can-ho-chung-cu-...  \n",
       "2     https://batdongsan.com.vn/ban-can-ho-chung-cu-...  \n",
       "3     https://batdongsan.com.vn/ban-can-ho-chung-cu-...  \n",
       "4     https://batdongsan.com.vn/ban-can-ho-chung-cu-...  \n",
       "...                                                 ...  \n",
       "2421  https://batdongsan.com.vn/ban-shophouse-nha-ph...  \n",
       "2422  https://batdongsan.com.vn/ban-shophouse-nha-ph...  \n",
       "2423  https://batdongsan.com.vn/ban-shophouse-nha-ph...  \n",
       "2425  https://batdongsan.com.vn/ban-shophouse-nha-ph...  \n",
       "2435  https://batdongsan.com.vn/ban-shophouse-nha-ph...  \n",
       "\n",
       "[1691 rows x 9 columns]"
      ]
     },
     "execution_count": 581,
     "metadata": {},
     "output_type": "execute_result"
    }
   ],
   "source": [
    "df_scaled"
   ]
  },
  {
   "cell_type": "code",
   "execution_count": 582,
   "id": "3aade00e",
   "metadata": {},
   "outputs": [
    {
     "ename": "KeyError",
     "evalue": "\"['Loại hình (encoded)', 'Giấy tờ pháp lý (encoded)', 'Tình trạng nội thất (encoded)'] not in index\"",
     "output_type": "error",
     "traceback": [
      "\u001b[31m---------------------------------------------------------------------------\u001b[39m",
      "\u001b[31mKeyError\u001b[39m                                  Traceback (most recent call last)",
      "\u001b[36mCell\u001b[39m\u001b[36m \u001b[39m\u001b[32mIn[582]\u001b[39m\u001b[32m, line 9\u001b[39m\n\u001b[32m      1\u001b[39m cols_for_model = [\n\u001b[32m      2\u001b[39m     \u001b[33m\"\u001b[39m\u001b[33mLoại hình (encoded)\u001b[39m\u001b[33m\"\u001b[39m,\n\u001b[32m      3\u001b[39m     \u001b[33m\"\u001b[39m\u001b[33mDiện tích (m²)\u001b[39m\u001b[33m\"\u001b[39m,\n\u001b[32m   (...)\u001b[39m\u001b[32m      7\u001b[39m     \u001b[33m\"\u001b[39m\u001b[33mTình trạng nội thất (encoded)\u001b[39m\u001b[33m\"\u001b[39m\n\u001b[32m      8\u001b[39m ]\n\u001b[32m----> \u001b[39m\u001b[32m9\u001b[39m X = \u001b[43mdf_scaled\u001b[49m\u001b[43m[\u001b[49m\u001b[43mcols_for_model\u001b[49m\u001b[43m]\u001b[49m\n\u001b[32m     10\u001b[39m Y = df_scaled[\u001b[33m'\u001b[39m\u001b[33mGiá (tỷ)\u001b[39m\u001b[33m'\u001b[39m]\n",
      "\u001b[36mFile \u001b[39m\u001b[32md:\\code\\python\\KHDL\\.venv\\Lib\\site-packages\\pandas\\core\\frame.py:4113\u001b[39m, in \u001b[36mDataFrame.__getitem__\u001b[39m\u001b[34m(self, key)\u001b[39m\n\u001b[32m   4111\u001b[39m     \u001b[38;5;28;01mif\u001b[39;00m is_iterator(key):\n\u001b[32m   4112\u001b[39m         key = \u001b[38;5;28mlist\u001b[39m(key)\n\u001b[32m-> \u001b[39m\u001b[32m4113\u001b[39m     indexer = \u001b[38;5;28;43mself\u001b[39;49m\u001b[43m.\u001b[49m\u001b[43mcolumns\u001b[49m\u001b[43m.\u001b[49m\u001b[43m_get_indexer_strict\u001b[49m\u001b[43m(\u001b[49m\u001b[43mkey\u001b[49m\u001b[43m,\u001b[49m\u001b[43m \u001b[49m\u001b[33;43m\"\u001b[39;49m\u001b[33;43mcolumns\u001b[39;49m\u001b[33;43m\"\u001b[39;49m\u001b[43m)\u001b[49m[\u001b[32m1\u001b[39m]\n\u001b[32m   4115\u001b[39m \u001b[38;5;66;03m# take() does not accept boolean indexers\u001b[39;00m\n\u001b[32m   4116\u001b[39m \u001b[38;5;28;01mif\u001b[39;00m \u001b[38;5;28mgetattr\u001b[39m(indexer, \u001b[33m\"\u001b[39m\u001b[33mdtype\u001b[39m\u001b[33m\"\u001b[39m, \u001b[38;5;28;01mNone\u001b[39;00m) == \u001b[38;5;28mbool\u001b[39m:\n",
      "\u001b[36mFile \u001b[39m\u001b[32md:\\code\\python\\KHDL\\.venv\\Lib\\site-packages\\pandas\\core\\indexes\\base.py:6212\u001b[39m, in \u001b[36mIndex._get_indexer_strict\u001b[39m\u001b[34m(self, key, axis_name)\u001b[39m\n\u001b[32m   6209\u001b[39m \u001b[38;5;28;01melse\u001b[39;00m:\n\u001b[32m   6210\u001b[39m     keyarr, indexer, new_indexer = \u001b[38;5;28mself\u001b[39m._reindex_non_unique(keyarr)\n\u001b[32m-> \u001b[39m\u001b[32m6212\u001b[39m \u001b[38;5;28;43mself\u001b[39;49m\u001b[43m.\u001b[49m\u001b[43m_raise_if_missing\u001b[49m\u001b[43m(\u001b[49m\u001b[43mkeyarr\u001b[49m\u001b[43m,\u001b[49m\u001b[43m \u001b[49m\u001b[43mindexer\u001b[49m\u001b[43m,\u001b[49m\u001b[43m \u001b[49m\u001b[43maxis_name\u001b[49m\u001b[43m)\u001b[49m\n\u001b[32m   6214\u001b[39m keyarr = \u001b[38;5;28mself\u001b[39m.take(indexer)\n\u001b[32m   6215\u001b[39m \u001b[38;5;28;01mif\u001b[39;00m \u001b[38;5;28misinstance\u001b[39m(key, Index):\n\u001b[32m   6216\u001b[39m     \u001b[38;5;66;03m# GH 42790 - Preserve name from an Index\u001b[39;00m\n",
      "\u001b[36mFile \u001b[39m\u001b[32md:\\code\\python\\KHDL\\.venv\\Lib\\site-packages\\pandas\\core\\indexes\\base.py:6264\u001b[39m, in \u001b[36mIndex._raise_if_missing\u001b[39m\u001b[34m(self, key, indexer, axis_name)\u001b[39m\n\u001b[32m   6261\u001b[39m     \u001b[38;5;28;01mraise\u001b[39;00m \u001b[38;5;167;01mKeyError\u001b[39;00m(\u001b[33mf\u001b[39m\u001b[33m\"\u001b[39m\u001b[33mNone of [\u001b[39m\u001b[38;5;132;01m{\u001b[39;00mkey\u001b[38;5;132;01m}\u001b[39;00m\u001b[33m] are in the [\u001b[39m\u001b[38;5;132;01m{\u001b[39;00maxis_name\u001b[38;5;132;01m}\u001b[39;00m\u001b[33m]\u001b[39m\u001b[33m\"\u001b[39m)\n\u001b[32m   6263\u001b[39m not_found = \u001b[38;5;28mlist\u001b[39m(ensure_index(key)[missing_mask.nonzero()[\u001b[32m0\u001b[39m]].unique())\n\u001b[32m-> \u001b[39m\u001b[32m6264\u001b[39m \u001b[38;5;28;01mraise\u001b[39;00m \u001b[38;5;167;01mKeyError\u001b[39;00m(\u001b[33mf\u001b[39m\u001b[33m\"\u001b[39m\u001b[38;5;132;01m{\u001b[39;00mnot_found\u001b[38;5;132;01m}\u001b[39;00m\u001b[33m not in index\u001b[39m\u001b[33m\"\u001b[39m)\n",
      "\u001b[31mKeyError\u001b[39m: \"['Loại hình (encoded)', 'Giấy tờ pháp lý (encoded)', 'Tình trạng nội thất (encoded)'] not in index\""
     ]
    }
   ],
   "source": [
    "cols_for_model = [\n",
    "    \"Loại hình (encoded)\",\n",
    "    \"Diện tích (m²)\",\n",
    "    \"Giấy tờ pháp lý (encoded)\",\n",
    "    \"Số phòng ngủ\",\n",
    "    \"Số phòng vệ sinh\",\n",
    "    \"Tình trạng nội thất (encoded)\"\n",
    "]\n",
    "X = df_scaled[cols_for_model]\n",
    "Y = df_scaled['Giá (tỷ)']"
   ]
  },
  {
   "cell_type": "code",
   "execution_count": null,
   "id": "3af6a9c6",
   "metadata": {},
   "outputs": [
    {
     "name": "stdout",
     "output_type": "stream",
     "text": [
      "MAE: 9.225 | RMSE: 12.806 | R²: 0.371\n"
     ]
    }
   ],
   "source": [
    "X_train, X_test, Y_train, Y_test = train_test_split(X, Y, test_size=0.2, random_state=42)\n",
    "\n",
    "model = LinearRegression()\n",
    "model.fit(X_train, Y_train)\n",
    "Y_pred = model.predict(X_test)\n",
    "\n",
    "mae = mean_absolute_error(Y_test, Y_pred)\n",
    "rmse = np.sqrt(mean_squared_error(Y_test, Y_pred))\n",
    "r2 = model.score(X_test, Y_test)\n",
    "print(f\"MAE: {mae:.3f} | RMSE: {rmse:.3f} | R²: {r2:.3f}\")"
   ]
  },
  {
   "cell_type": "code",
   "execution_count": null,
   "id": "9d37b08c",
   "metadata": {},
   "outputs": [],
   "source": [
    "import gradio as gr\n",
    "import joblib\n",
    "import numpy as np"
   ]
  },
  {
   "cell_type": "code",
   "execution_count": null,
   "id": "117b2450",
   "metadata": {},
   "outputs": [
    {
     "data": {
      "text/plain": [
       "['le_noithat.pkl']"
      ]
     },
     "execution_count": 508,
     "metadata": {},
     "output_type": "execute_result"
    }
   ],
   "source": [
    "joblib.dump(model, \"model.pkl\")\n",
    "joblib.dump(scaler, \"scaler.pkl\")\n",
    "joblib.dump(le_loai, \"le_loai.pkl\")\n",
    "joblib.dump(le_phaply, \"le_phaply.pkl\")\n",
    "joblib.dump(le_noithat, \"le_noithat.pkl\")"
   ]
  },
  {
   "cell_type": "code",
   "execution_count": null,
   "id": "f2ada6a1",
   "metadata": {},
   "outputs": [],
   "source": [
    "model = joblib.load(\"model.pkl\")\n",
    "scaler = joblib.load(\"scaler.pkl\")\n",
    "le_loai = joblib.load(\"le_loai.pkl\")\n",
    "le_phaply = joblib.load(\"le_phaply.pkl\")\n",
    "le_noithat = joblib.load(\"le_noithat.pkl\")\n"
   ]
  },
  {
   "cell_type": "code",
   "execution_count": null,
   "id": "5e29e82e",
   "metadata": {},
   "outputs": [],
   "source": [
    "def predict(loai_hinh, dien_tich, phap_ly, phong_ngu, phong_vs, noi_that):\n",
    "    # Encode input\n",
    "    loai_enc = le_loai.transform([loai_hinh])[0]\n",
    "    phaply_enc = le_phaply.transform([phap_ly])[0]\n",
    "    noithat_enc = le_noithat.transform([noi_that])[0]\n",
    "    \n",
    "    # Scale continuous inputs only\n",
    "    scaled_continuous = scaler.transform([[dien_tich, phong_ngu, phong_vs]])[0]\n",
    "    dien_tich_s, phong_ngu_s, phong_vs_s = scaled_continuous\n",
    "    \n",
    "    # Combine features\n",
    "    features = np.array([[loai_enc, dien_tich_s, phaply_enc, phong_ngu_s, phong_vs_s, noithat_enc]])\n",
    "    \n",
    "    predicted = model.predict(features)[0]\n",
    "    return f\"💰 Dự đoán giá: {predicted:.2f} tỷ đồng\""
   ]
  },
  {
   "cell_type": "code",
   "execution_count": null,
   "id": "06102747",
   "metadata": {},
   "outputs": [
    {
     "name": "stdout",
     "output_type": "stream",
     "text": [
      "* Running on local URL:  http://127.0.0.1:7875\n",
      "* To create a public link, set `share=True` in `launch()`.\n"
     ]
    },
    {
     "data": {
      "text/html": [
       "<div><iframe src=\"http://127.0.0.1:7875/\" width=\"100%\" height=\"500\" allow=\"autoplay; camera; microphone; clipboard-read; clipboard-write;\" frameborder=\"0\" allowfullscreen></iframe></div>"
      ],
      "text/plain": [
       "<IPython.core.display.HTML object>"
      ]
     },
     "metadata": {},
     "output_type": "display_data"
    },
    {
     "data": {
      "text/plain": []
     },
     "execution_count": 511,
     "metadata": {},
     "output_type": "execute_result"
    },
    {
     "name": "stderr",
     "output_type": "stream",
     "text": [
      "d:\\code\\python\\KHDL\\.venv\\Lib\\site-packages\\sklearn\\utils\\validation.py:2749: UserWarning: X does not have valid feature names, but MinMaxScaler was fitted with feature names\n",
      "  warnings.warn(\n",
      "Traceback (most recent call last):\n",
      "  File \"d:\\code\\python\\KHDL\\.venv\\Lib\\site-packages\\gradio\\queueing.py\", line 759, in process_events\n",
      "    response = await route_utils.call_process_api(\n",
      "               ^^^^^^^^^^^^^^^^^^^^^^^^^^^^^^^^^^^\n",
      "    ...<5 lines>...\n",
      "    )\n",
      "    ^\n",
      "  File \"d:\\code\\python\\KHDL\\.venv\\Lib\\site-packages\\gradio\\route_utils.py\", line 354, in call_process_api\n",
      "    output = await app.get_blocks().process_api(\n",
      "             ^^^^^^^^^^^^^^^^^^^^^^^^^^^^^^^^^^^\n",
      "    ...<11 lines>...\n",
      "    )\n",
      "    ^\n",
      "  File \"d:\\code\\python\\KHDL\\.venv\\Lib\\site-packages\\gradio\\blocks.py\", line 2116, in process_api\n",
      "    result = await self.call_function(\n",
      "             ^^^^^^^^^^^^^^^^^^^^^^^^^\n",
      "    ...<8 lines>...\n",
      "    )\n",
      "    ^\n",
      "  File \"d:\\code\\python\\KHDL\\.venv\\Lib\\site-packages\\gradio\\blocks.py\", line 1623, in call_function\n",
      "    prediction = await anyio.to_thread.run_sync(  # type: ignore\n",
      "                 ^^^^^^^^^^^^^^^^^^^^^^^^^^^^^^^^^^^^^^^^^^^^^^^\n",
      "        fn, *processed_input, limiter=self.limiter\n",
      "        ^^^^^^^^^^^^^^^^^^^^^^^^^^^^^^^^^^^^^^^^^^\n",
      "    )\n",
      "    ^\n",
      "  File \"d:\\code\\python\\KHDL\\.venv\\Lib\\site-packages\\anyio\\to_thread.py\", line 56, in run_sync\n",
      "    return await get_async_backend().run_sync_in_worker_thread(\n",
      "           ^^^^^^^^^^^^^^^^^^^^^^^^^^^^^^^^^^^^^^^^^^^^^^^^^^^^\n",
      "        func, args, abandon_on_cancel=abandon_on_cancel, limiter=limiter\n",
      "        ^^^^^^^^^^^^^^^^^^^^^^^^^^^^^^^^^^^^^^^^^^^^^^^^^^^^^^^^^^^^^^^^\n",
      "    )\n",
      "    ^\n",
      "  File \"d:\\code\\python\\KHDL\\.venv\\Lib\\site-packages\\anyio\\_backends\\_asyncio.py\", line 2485, in run_sync_in_worker_thread\n",
      "    return await future\n",
      "           ^^^^^^^^^^^^\n",
      "  File \"d:\\code\\python\\KHDL\\.venv\\Lib\\site-packages\\anyio\\_backends\\_asyncio.py\", line 976, in run\n",
      "    result = context.run(func, *args)\n",
      "  File \"d:\\code\\python\\KHDL\\.venv\\Lib\\site-packages\\gradio\\utils.py\", line 915, in wrapper\n",
      "    response = f(*args, **kwargs)\n",
      "  File \"C:\\Users\\ACER\\AppData\\Local\\Temp\\ipykernel_22968\\5120511.py\", line 8, in predict\n",
      "    scaled_continuous = scaler.transform([[dien_tich, phong_ngu, phong_vs]])[0]\n",
      "                        ~~~~~~~~~~~~~~~~^^^^^^^^^^^^^^^^^^^^^^^^^^^^^^^^^^^^\n",
      "  File \"d:\\code\\python\\KHDL\\.venv\\Lib\\site-packages\\sklearn\\utils\\_set_output.py\", line 316, in wrapped\n",
      "    data_to_wrap = f(self, X, *args, **kwargs)\n",
      "  File \"d:\\code\\python\\KHDL\\.venv\\Lib\\site-packages\\sklearn\\preprocessing\\_data.py\", line 545, in transform\n",
      "    X = validate_data(\n",
      "        self,\n",
      "    ...<5 lines>...\n",
      "        reset=False,\n",
      "    )\n",
      "  File \"d:\\code\\python\\KHDL\\.venv\\Lib\\site-packages\\sklearn\\utils\\validation.py\", line 2975, in validate_data\n",
      "    _check_n_features(_estimator, X, reset=reset)\n",
      "    ~~~~~~~~~~~~~~~~~^^^^^^^^^^^^^^^^^^^^^^^^^^^^\n",
      "  File \"d:\\code\\python\\KHDL\\.venv\\Lib\\site-packages\\sklearn\\utils\\validation.py\", line 2839, in _check_n_features\n",
      "    raise ValueError(\n",
      "    ...<2 lines>...\n",
      "    )\n",
      "ValueError: X has 3 features, but MinMaxScaler is expecting 6 features as input.\n",
      "d:\\code\\python\\KHDL\\.venv\\Lib\\site-packages\\sklearn\\utils\\validation.py:2749: UserWarning: X does not have valid feature names, but MinMaxScaler was fitted with feature names\n",
      "  warnings.warn(\n",
      "Traceback (most recent call last):\n",
      "  File \"d:\\code\\python\\KHDL\\.venv\\Lib\\site-packages\\gradio\\queueing.py\", line 759, in process_events\n",
      "    response = await route_utils.call_process_api(\n",
      "               ^^^^^^^^^^^^^^^^^^^^^^^^^^^^^^^^^^^\n",
      "    ...<5 lines>...\n",
      "    )\n",
      "    ^\n",
      "  File \"d:\\code\\python\\KHDL\\.venv\\Lib\\site-packages\\gradio\\route_utils.py\", line 354, in call_process_api\n",
      "    output = await app.get_blocks().process_api(\n",
      "             ^^^^^^^^^^^^^^^^^^^^^^^^^^^^^^^^^^^\n",
      "    ...<11 lines>...\n",
      "    )\n",
      "    ^\n",
      "  File \"d:\\code\\python\\KHDL\\.venv\\Lib\\site-packages\\gradio\\blocks.py\", line 2116, in process_api\n",
      "    result = await self.call_function(\n",
      "             ^^^^^^^^^^^^^^^^^^^^^^^^^\n",
      "    ...<8 lines>...\n",
      "    )\n",
      "    ^\n",
      "  File \"d:\\code\\python\\KHDL\\.venv\\Lib\\site-packages\\gradio\\blocks.py\", line 1623, in call_function\n",
      "    prediction = await anyio.to_thread.run_sync(  # type: ignore\n",
      "                 ^^^^^^^^^^^^^^^^^^^^^^^^^^^^^^^^^^^^^^^^^^^^^^^\n",
      "        fn, *processed_input, limiter=self.limiter\n",
      "        ^^^^^^^^^^^^^^^^^^^^^^^^^^^^^^^^^^^^^^^^^^\n",
      "    )\n",
      "    ^\n",
      "  File \"d:\\code\\python\\KHDL\\.venv\\Lib\\site-packages\\anyio\\to_thread.py\", line 56, in run_sync\n",
      "    return await get_async_backend().run_sync_in_worker_thread(\n",
      "           ^^^^^^^^^^^^^^^^^^^^^^^^^^^^^^^^^^^^^^^^^^^^^^^^^^^^\n",
      "        func, args, abandon_on_cancel=abandon_on_cancel, limiter=limiter\n",
      "        ^^^^^^^^^^^^^^^^^^^^^^^^^^^^^^^^^^^^^^^^^^^^^^^^^^^^^^^^^^^^^^^^\n",
      "    )\n",
      "    ^\n",
      "  File \"d:\\code\\python\\KHDL\\.venv\\Lib\\site-packages\\anyio\\_backends\\_asyncio.py\", line 2485, in run_sync_in_worker_thread\n",
      "    return await future\n",
      "           ^^^^^^^^^^^^\n",
      "  File \"d:\\code\\python\\KHDL\\.venv\\Lib\\site-packages\\anyio\\_backends\\_asyncio.py\", line 976, in run\n",
      "    result = context.run(func, *args)\n",
      "  File \"d:\\code\\python\\KHDL\\.venv\\Lib\\site-packages\\gradio\\utils.py\", line 915, in wrapper\n",
      "    response = f(*args, **kwargs)\n",
      "  File \"C:\\Users\\ACER\\AppData\\Local\\Temp\\ipykernel_22968\\5120511.py\", line 8, in predict\n",
      "    scaled_continuous = scaler.transform([[dien_tich, phong_ngu, phong_vs]])[0]\n",
      "                        ~~~~~~~~~~~~~~~~^^^^^^^^^^^^^^^^^^^^^^^^^^^^^^^^^^^^\n",
      "  File \"d:\\code\\python\\KHDL\\.venv\\Lib\\site-packages\\sklearn\\utils\\_set_output.py\", line 316, in wrapped\n",
      "    data_to_wrap = f(self, X, *args, **kwargs)\n",
      "  File \"d:\\code\\python\\KHDL\\.venv\\Lib\\site-packages\\sklearn\\preprocessing\\_data.py\", line 545, in transform\n",
      "    X = validate_data(\n",
      "        self,\n",
      "    ...<5 lines>...\n",
      "        reset=False,\n",
      "    )\n",
      "  File \"d:\\code\\python\\KHDL\\.venv\\Lib\\site-packages\\sklearn\\utils\\validation.py\", line 2975, in validate_data\n",
      "    _check_n_features(_estimator, X, reset=reset)\n",
      "    ~~~~~~~~~~~~~~~~~^^^^^^^^^^^^^^^^^^^^^^^^^^^^\n",
      "  File \"d:\\code\\python\\KHDL\\.venv\\Lib\\site-packages\\sklearn\\utils\\validation.py\", line 2839, in _check_n_features\n",
      "    raise ValueError(\n",
      "    ...<2 lines>...\n",
      "    )\n",
      "ValueError: X has 3 features, but MinMaxScaler is expecting 6 features as input.\n",
      "d:\\code\\python\\KHDL\\.venv\\Lib\\site-packages\\sklearn\\utils\\validation.py:2749: UserWarning: X does not have valid feature names, but MinMaxScaler was fitted with feature names\n",
      "  warnings.warn(\n",
      "Traceback (most recent call last):\n",
      "  File \"d:\\code\\python\\KHDL\\.venv\\Lib\\site-packages\\gradio\\queueing.py\", line 759, in process_events\n",
      "    response = await route_utils.call_process_api(\n",
      "               ^^^^^^^^^^^^^^^^^^^^^^^^^^^^^^^^^^^\n",
      "    ...<5 lines>...\n",
      "    )\n",
      "    ^\n",
      "  File \"d:\\code\\python\\KHDL\\.venv\\Lib\\site-packages\\gradio\\route_utils.py\", line 354, in call_process_api\n",
      "    output = await app.get_blocks().process_api(\n",
      "             ^^^^^^^^^^^^^^^^^^^^^^^^^^^^^^^^^^^\n",
      "    ...<11 lines>...\n",
      "    )\n",
      "    ^\n",
      "  File \"d:\\code\\python\\KHDL\\.venv\\Lib\\site-packages\\gradio\\blocks.py\", line 2116, in process_api\n",
      "    result = await self.call_function(\n",
      "             ^^^^^^^^^^^^^^^^^^^^^^^^^\n",
      "    ...<8 lines>...\n",
      "    )\n",
      "    ^\n",
      "  File \"d:\\code\\python\\KHDL\\.venv\\Lib\\site-packages\\gradio\\blocks.py\", line 1623, in call_function\n",
      "    prediction = await anyio.to_thread.run_sync(  # type: ignore\n",
      "                 ^^^^^^^^^^^^^^^^^^^^^^^^^^^^^^^^^^^^^^^^^^^^^^^\n",
      "        fn, *processed_input, limiter=self.limiter\n",
      "        ^^^^^^^^^^^^^^^^^^^^^^^^^^^^^^^^^^^^^^^^^^\n",
      "    )\n",
      "    ^\n",
      "  File \"d:\\code\\python\\KHDL\\.venv\\Lib\\site-packages\\anyio\\to_thread.py\", line 56, in run_sync\n",
      "    return await get_async_backend().run_sync_in_worker_thread(\n",
      "           ^^^^^^^^^^^^^^^^^^^^^^^^^^^^^^^^^^^^^^^^^^^^^^^^^^^^\n",
      "        func, args, abandon_on_cancel=abandon_on_cancel, limiter=limiter\n",
      "        ^^^^^^^^^^^^^^^^^^^^^^^^^^^^^^^^^^^^^^^^^^^^^^^^^^^^^^^^^^^^^^^^\n",
      "    )\n",
      "    ^\n",
      "  File \"d:\\code\\python\\KHDL\\.venv\\Lib\\site-packages\\anyio\\_backends\\_asyncio.py\", line 2485, in run_sync_in_worker_thread\n",
      "    return await future\n",
      "           ^^^^^^^^^^^^\n",
      "  File \"d:\\code\\python\\KHDL\\.venv\\Lib\\site-packages\\anyio\\_backends\\_asyncio.py\", line 976, in run\n",
      "    result = context.run(func, *args)\n",
      "  File \"d:\\code\\python\\KHDL\\.venv\\Lib\\site-packages\\gradio\\utils.py\", line 915, in wrapper\n",
      "    response = f(*args, **kwargs)\n",
      "  File \"C:\\Users\\ACER\\AppData\\Local\\Temp\\ipykernel_22968\\5120511.py\", line 8, in predict\n",
      "    scaled_continuous = scaler.transform([[dien_tich, phong_ngu, phong_vs]])[0]\n",
      "                        ~~~~~~~~~~~~~~~~^^^^^^^^^^^^^^^^^^^^^^^^^^^^^^^^^^^^\n",
      "  File \"d:\\code\\python\\KHDL\\.venv\\Lib\\site-packages\\sklearn\\utils\\_set_output.py\", line 316, in wrapped\n",
      "    data_to_wrap = f(self, X, *args, **kwargs)\n",
      "  File \"d:\\code\\python\\KHDL\\.venv\\Lib\\site-packages\\sklearn\\preprocessing\\_data.py\", line 545, in transform\n",
      "    X = validate_data(\n",
      "        self,\n",
      "    ...<5 lines>...\n",
      "        reset=False,\n",
      "    )\n",
      "  File \"d:\\code\\python\\KHDL\\.venv\\Lib\\site-packages\\sklearn\\utils\\validation.py\", line 2975, in validate_data\n",
      "    _check_n_features(_estimator, X, reset=reset)\n",
      "    ~~~~~~~~~~~~~~~~~^^^^^^^^^^^^^^^^^^^^^^^^^^^^\n",
      "  File \"d:\\code\\python\\KHDL\\.venv\\Lib\\site-packages\\sklearn\\utils\\validation.py\", line 2839, in _check_n_features\n",
      "    raise ValueError(\n",
      "    ...<2 lines>...\n",
      "    )\n",
      "ValueError: X has 3 features, but MinMaxScaler is expecting 6 features as input.\n",
      "d:\\code\\python\\KHDL\\.venv\\Lib\\site-packages\\sklearn\\utils\\validation.py:2749: UserWarning: X does not have valid feature names, but MinMaxScaler was fitted with feature names\n",
      "  warnings.warn(\n",
      "Traceback (most recent call last):\n",
      "  File \"d:\\code\\python\\KHDL\\.venv\\Lib\\site-packages\\gradio\\queueing.py\", line 759, in process_events\n",
      "    response = await route_utils.call_process_api(\n",
      "               ^^^^^^^^^^^^^^^^^^^^^^^^^^^^^^^^^^^\n",
      "    ...<5 lines>...\n",
      "    )\n",
      "    ^\n",
      "  File \"d:\\code\\python\\KHDL\\.venv\\Lib\\site-packages\\gradio\\route_utils.py\", line 354, in call_process_api\n",
      "    output = await app.get_blocks().process_api(\n",
      "             ^^^^^^^^^^^^^^^^^^^^^^^^^^^^^^^^^^^\n",
      "    ...<11 lines>...\n",
      "    )\n",
      "    ^\n",
      "  File \"d:\\code\\python\\KHDL\\.venv\\Lib\\site-packages\\gradio\\blocks.py\", line 2116, in process_api\n",
      "    result = await self.call_function(\n",
      "             ^^^^^^^^^^^^^^^^^^^^^^^^^\n",
      "    ...<8 lines>...\n",
      "    )\n",
      "    ^\n",
      "  File \"d:\\code\\python\\KHDL\\.venv\\Lib\\site-packages\\gradio\\blocks.py\", line 1623, in call_function\n",
      "    prediction = await anyio.to_thread.run_sync(  # type: ignore\n",
      "                 ^^^^^^^^^^^^^^^^^^^^^^^^^^^^^^^^^^^^^^^^^^^^^^^\n",
      "        fn, *processed_input, limiter=self.limiter\n",
      "        ^^^^^^^^^^^^^^^^^^^^^^^^^^^^^^^^^^^^^^^^^^\n",
      "    )\n",
      "    ^\n",
      "  File \"d:\\code\\python\\KHDL\\.venv\\Lib\\site-packages\\anyio\\to_thread.py\", line 56, in run_sync\n",
      "    return await get_async_backend().run_sync_in_worker_thread(\n",
      "           ^^^^^^^^^^^^^^^^^^^^^^^^^^^^^^^^^^^^^^^^^^^^^^^^^^^^\n",
      "        func, args, abandon_on_cancel=abandon_on_cancel, limiter=limiter\n",
      "        ^^^^^^^^^^^^^^^^^^^^^^^^^^^^^^^^^^^^^^^^^^^^^^^^^^^^^^^^^^^^^^^^\n",
      "    )\n",
      "    ^\n",
      "  File \"d:\\code\\python\\KHDL\\.venv\\Lib\\site-packages\\anyio\\_backends\\_asyncio.py\", line 2485, in run_sync_in_worker_thread\n",
      "    return await future\n",
      "           ^^^^^^^^^^^^\n",
      "  File \"d:\\code\\python\\KHDL\\.venv\\Lib\\site-packages\\anyio\\_backends\\_asyncio.py\", line 976, in run\n",
      "    result = context.run(func, *args)\n",
      "  File \"d:\\code\\python\\KHDL\\.venv\\Lib\\site-packages\\gradio\\utils.py\", line 915, in wrapper\n",
      "    response = f(*args, **kwargs)\n",
      "  File \"C:\\Users\\ACER\\AppData\\Local\\Temp\\ipykernel_22968\\5120511.py\", line 8, in predict\n",
      "    scaled_continuous = scaler.transform([[dien_tich, phong_ngu, phong_vs]])[0]\n",
      "                        ~~~~~~~~~~~~~~~~^^^^^^^^^^^^^^^^^^^^^^^^^^^^^^^^^^^^\n",
      "  File \"d:\\code\\python\\KHDL\\.venv\\Lib\\site-packages\\sklearn\\utils\\_set_output.py\", line 316, in wrapped\n",
      "    data_to_wrap = f(self, X, *args, **kwargs)\n",
      "  File \"d:\\code\\python\\KHDL\\.venv\\Lib\\site-packages\\sklearn\\preprocessing\\_data.py\", line 545, in transform\n",
      "    X = validate_data(\n",
      "        self,\n",
      "    ...<5 lines>...\n",
      "        reset=False,\n",
      "    )\n",
      "  File \"d:\\code\\python\\KHDL\\.venv\\Lib\\site-packages\\sklearn\\utils\\validation.py\", line 2975, in validate_data\n",
      "    _check_n_features(_estimator, X, reset=reset)\n",
      "    ~~~~~~~~~~~~~~~~~^^^^^^^^^^^^^^^^^^^^^^^^^^^^\n",
      "  File \"d:\\code\\python\\KHDL\\.venv\\Lib\\site-packages\\sklearn\\utils\\validation.py\", line 2839, in _check_n_features\n",
      "    raise ValueError(\n",
      "    ...<2 lines>...\n",
      "    )\n",
      "ValueError: X has 3 features, but MinMaxScaler is expecting 6 features as input.\n",
      "d:\\code\\python\\KHDL\\.venv\\Lib\\site-packages\\sklearn\\utils\\validation.py:2749: UserWarning: X does not have valid feature names, but MinMaxScaler was fitted with feature names\n",
      "  warnings.warn(\n",
      "Traceback (most recent call last):\n",
      "  File \"d:\\code\\python\\KHDL\\.venv\\Lib\\site-packages\\gradio\\queueing.py\", line 759, in process_events\n",
      "    response = await route_utils.call_process_api(\n",
      "               ^^^^^^^^^^^^^^^^^^^^^^^^^^^^^^^^^^^\n",
      "    ...<5 lines>...\n",
      "    )\n",
      "    ^\n",
      "  File \"d:\\code\\python\\KHDL\\.venv\\Lib\\site-packages\\gradio\\route_utils.py\", line 354, in call_process_api\n",
      "    output = await app.get_blocks().process_api(\n",
      "             ^^^^^^^^^^^^^^^^^^^^^^^^^^^^^^^^^^^\n",
      "    ...<11 lines>...\n",
      "    )\n",
      "    ^\n",
      "  File \"d:\\code\\python\\KHDL\\.venv\\Lib\\site-packages\\gradio\\blocks.py\", line 2116, in process_api\n",
      "    result = await self.call_function(\n",
      "             ^^^^^^^^^^^^^^^^^^^^^^^^^\n",
      "    ...<8 lines>...\n",
      "    )\n",
      "    ^\n",
      "  File \"d:\\code\\python\\KHDL\\.venv\\Lib\\site-packages\\gradio\\blocks.py\", line 1623, in call_function\n",
      "    prediction = await anyio.to_thread.run_sync(  # type: ignore\n",
      "                 ^^^^^^^^^^^^^^^^^^^^^^^^^^^^^^^^^^^^^^^^^^^^^^^\n",
      "        fn, *processed_input, limiter=self.limiter\n",
      "        ^^^^^^^^^^^^^^^^^^^^^^^^^^^^^^^^^^^^^^^^^^\n",
      "    )\n",
      "    ^\n",
      "  File \"d:\\code\\python\\KHDL\\.venv\\Lib\\site-packages\\anyio\\to_thread.py\", line 56, in run_sync\n",
      "    return await get_async_backend().run_sync_in_worker_thread(\n",
      "           ^^^^^^^^^^^^^^^^^^^^^^^^^^^^^^^^^^^^^^^^^^^^^^^^^^^^\n",
      "        func, args, abandon_on_cancel=abandon_on_cancel, limiter=limiter\n",
      "        ^^^^^^^^^^^^^^^^^^^^^^^^^^^^^^^^^^^^^^^^^^^^^^^^^^^^^^^^^^^^^^^^\n",
      "    )\n",
      "    ^\n",
      "  File \"d:\\code\\python\\KHDL\\.venv\\Lib\\site-packages\\anyio\\_backends\\_asyncio.py\", line 2485, in run_sync_in_worker_thread\n",
      "    return await future\n",
      "           ^^^^^^^^^^^^\n",
      "  File \"d:\\code\\python\\KHDL\\.venv\\Lib\\site-packages\\anyio\\_backends\\_asyncio.py\", line 976, in run\n",
      "    result = context.run(func, *args)\n",
      "  File \"d:\\code\\python\\KHDL\\.venv\\Lib\\site-packages\\gradio\\utils.py\", line 915, in wrapper\n",
      "    response = f(*args, **kwargs)\n",
      "  File \"C:\\Users\\ACER\\AppData\\Local\\Temp\\ipykernel_22968\\5120511.py\", line 8, in predict\n",
      "    scaled_continuous = scaler.transform([[dien_tich, phong_ngu, phong_vs]])[0]\n",
      "                        ~~~~~~~~~~~~~~~~^^^^^^^^^^^^^^^^^^^^^^^^^^^^^^^^^^^^\n",
      "  File \"d:\\code\\python\\KHDL\\.venv\\Lib\\site-packages\\sklearn\\utils\\_set_output.py\", line 316, in wrapped\n",
      "    data_to_wrap = f(self, X, *args, **kwargs)\n",
      "  File \"d:\\code\\python\\KHDL\\.venv\\Lib\\site-packages\\sklearn\\preprocessing\\_data.py\", line 545, in transform\n",
      "    X = validate_data(\n",
      "        self,\n",
      "    ...<5 lines>...\n",
      "        reset=False,\n",
      "    )\n",
      "  File \"d:\\code\\python\\KHDL\\.venv\\Lib\\site-packages\\sklearn\\utils\\validation.py\", line 2975, in validate_data\n",
      "    _check_n_features(_estimator, X, reset=reset)\n",
      "    ~~~~~~~~~~~~~~~~~^^^^^^^^^^^^^^^^^^^^^^^^^^^^\n",
      "  File \"d:\\code\\python\\KHDL\\.venv\\Lib\\site-packages\\sklearn\\utils\\validation.py\", line 2839, in _check_n_features\n",
      "    raise ValueError(\n",
      "    ...<2 lines>...\n",
      "    )\n",
      "ValueError: X has 3 features, but MinMaxScaler is expecting 6 features as input.\n",
      "d:\\code\\python\\KHDL\\.venv\\Lib\\site-packages\\sklearn\\utils\\validation.py:2749: UserWarning: X does not have valid feature names, but MinMaxScaler was fitted with feature names\n",
      "  warnings.warn(\n",
      "Traceback (most recent call last):\n",
      "  File \"d:\\code\\python\\KHDL\\.venv\\Lib\\site-packages\\gradio\\queueing.py\", line 759, in process_events\n",
      "    response = await route_utils.call_process_api(\n",
      "               ^^^^^^^^^^^^^^^^^^^^^^^^^^^^^^^^^^^\n",
      "    ...<5 lines>...\n",
      "    )\n",
      "    ^\n",
      "  File \"d:\\code\\python\\KHDL\\.venv\\Lib\\site-packages\\gradio\\route_utils.py\", line 354, in call_process_api\n",
      "    output = await app.get_blocks().process_api(\n",
      "             ^^^^^^^^^^^^^^^^^^^^^^^^^^^^^^^^^^^\n",
      "    ...<11 lines>...\n",
      "    )\n",
      "    ^\n",
      "  File \"d:\\code\\python\\KHDL\\.venv\\Lib\\site-packages\\gradio\\blocks.py\", line 2116, in process_api\n",
      "    result = await self.call_function(\n",
      "             ^^^^^^^^^^^^^^^^^^^^^^^^^\n",
      "    ...<8 lines>...\n",
      "    )\n",
      "    ^\n",
      "  File \"d:\\code\\python\\KHDL\\.venv\\Lib\\site-packages\\gradio\\blocks.py\", line 1623, in call_function\n",
      "    prediction = await anyio.to_thread.run_sync(  # type: ignore\n",
      "                 ^^^^^^^^^^^^^^^^^^^^^^^^^^^^^^^^^^^^^^^^^^^^^^^\n",
      "        fn, *processed_input, limiter=self.limiter\n",
      "        ^^^^^^^^^^^^^^^^^^^^^^^^^^^^^^^^^^^^^^^^^^\n",
      "    )\n",
      "    ^\n",
      "  File \"d:\\code\\python\\KHDL\\.venv\\Lib\\site-packages\\anyio\\to_thread.py\", line 56, in run_sync\n",
      "    return await get_async_backend().run_sync_in_worker_thread(\n",
      "           ^^^^^^^^^^^^^^^^^^^^^^^^^^^^^^^^^^^^^^^^^^^^^^^^^^^^\n",
      "        func, args, abandon_on_cancel=abandon_on_cancel, limiter=limiter\n",
      "        ^^^^^^^^^^^^^^^^^^^^^^^^^^^^^^^^^^^^^^^^^^^^^^^^^^^^^^^^^^^^^^^^\n",
      "    )\n",
      "    ^\n",
      "  File \"d:\\code\\python\\KHDL\\.venv\\Lib\\site-packages\\anyio\\_backends\\_asyncio.py\", line 2485, in run_sync_in_worker_thread\n",
      "    return await future\n",
      "           ^^^^^^^^^^^^\n",
      "  File \"d:\\code\\python\\KHDL\\.venv\\Lib\\site-packages\\anyio\\_backends\\_asyncio.py\", line 976, in run\n",
      "    result = context.run(func, *args)\n",
      "  File \"d:\\code\\python\\KHDL\\.venv\\Lib\\site-packages\\gradio\\utils.py\", line 915, in wrapper\n",
      "    response = f(*args, **kwargs)\n",
      "  File \"C:\\Users\\ACER\\AppData\\Local\\Temp\\ipykernel_22968\\5120511.py\", line 8, in predict\n",
      "    scaled_continuous = scaler.transform([[dien_tich, phong_ngu, phong_vs]])[0]\n",
      "                        ~~~~~~~~~~~~~~~~^^^^^^^^^^^^^^^^^^^^^^^^^^^^^^^^^^^^\n",
      "  File \"d:\\code\\python\\KHDL\\.venv\\Lib\\site-packages\\sklearn\\utils\\_set_output.py\", line 316, in wrapped\n",
      "    data_to_wrap = f(self, X, *args, **kwargs)\n",
      "  File \"d:\\code\\python\\KHDL\\.venv\\Lib\\site-packages\\sklearn\\preprocessing\\_data.py\", line 545, in transform\n",
      "    X = validate_data(\n",
      "        self,\n",
      "    ...<5 lines>...\n",
      "        reset=False,\n",
      "    )\n",
      "  File \"d:\\code\\python\\KHDL\\.venv\\Lib\\site-packages\\sklearn\\utils\\validation.py\", line 2975, in validate_data\n",
      "    _check_n_features(_estimator, X, reset=reset)\n",
      "    ~~~~~~~~~~~~~~~~~^^^^^^^^^^^^^^^^^^^^^^^^^^^^\n",
      "  File \"d:\\code\\python\\KHDL\\.venv\\Lib\\site-packages\\sklearn\\utils\\validation.py\", line 2839, in _check_n_features\n",
      "    raise ValueError(\n",
      "    ...<2 lines>...\n",
      "    )\n",
      "ValueError: X has 3 features, but MinMaxScaler is expecting 6 features as input.\n",
      "d:\\code\\python\\KHDL\\.venv\\Lib\\site-packages\\sklearn\\utils\\validation.py:2749: UserWarning: X does not have valid feature names, but MinMaxScaler was fitted with feature names\n",
      "  warnings.warn(\n",
      "Traceback (most recent call last):\n",
      "  File \"d:\\code\\python\\KHDL\\.venv\\Lib\\site-packages\\gradio\\queueing.py\", line 759, in process_events\n",
      "    response = await route_utils.call_process_api(\n",
      "               ^^^^^^^^^^^^^^^^^^^^^^^^^^^^^^^^^^^\n",
      "    ...<5 lines>...\n",
      "    )\n",
      "    ^\n",
      "  File \"d:\\code\\python\\KHDL\\.venv\\Lib\\site-packages\\gradio\\route_utils.py\", line 354, in call_process_api\n",
      "    output = await app.get_blocks().process_api(\n",
      "             ^^^^^^^^^^^^^^^^^^^^^^^^^^^^^^^^^^^\n",
      "    ...<11 lines>...\n",
      "    )\n",
      "    ^\n",
      "  File \"d:\\code\\python\\KHDL\\.venv\\Lib\\site-packages\\gradio\\blocks.py\", line 2116, in process_api\n",
      "    result = await self.call_function(\n",
      "             ^^^^^^^^^^^^^^^^^^^^^^^^^\n",
      "    ...<8 lines>...\n",
      "    )\n",
      "    ^\n",
      "  File \"d:\\code\\python\\KHDL\\.venv\\Lib\\site-packages\\gradio\\blocks.py\", line 1623, in call_function\n",
      "    prediction = await anyio.to_thread.run_sync(  # type: ignore\n",
      "                 ^^^^^^^^^^^^^^^^^^^^^^^^^^^^^^^^^^^^^^^^^^^^^^^\n",
      "        fn, *processed_input, limiter=self.limiter\n",
      "        ^^^^^^^^^^^^^^^^^^^^^^^^^^^^^^^^^^^^^^^^^^\n",
      "    )\n",
      "    ^\n",
      "  File \"d:\\code\\python\\KHDL\\.venv\\Lib\\site-packages\\anyio\\to_thread.py\", line 56, in run_sync\n",
      "    return await get_async_backend().run_sync_in_worker_thread(\n",
      "           ^^^^^^^^^^^^^^^^^^^^^^^^^^^^^^^^^^^^^^^^^^^^^^^^^^^^\n",
      "        func, args, abandon_on_cancel=abandon_on_cancel, limiter=limiter\n",
      "        ^^^^^^^^^^^^^^^^^^^^^^^^^^^^^^^^^^^^^^^^^^^^^^^^^^^^^^^^^^^^^^^^\n",
      "    )\n",
      "    ^\n",
      "  File \"d:\\code\\python\\KHDL\\.venv\\Lib\\site-packages\\anyio\\_backends\\_asyncio.py\", line 2485, in run_sync_in_worker_thread\n",
      "    return await future\n",
      "           ^^^^^^^^^^^^\n",
      "  File \"d:\\code\\python\\KHDL\\.venv\\Lib\\site-packages\\anyio\\_backends\\_asyncio.py\", line 976, in run\n",
      "    result = context.run(func, *args)\n",
      "  File \"d:\\code\\python\\KHDL\\.venv\\Lib\\site-packages\\gradio\\utils.py\", line 915, in wrapper\n",
      "    response = f(*args, **kwargs)\n",
      "  File \"C:\\Users\\ACER\\AppData\\Local\\Temp\\ipykernel_22968\\5120511.py\", line 8, in predict\n",
      "    scaled_continuous = scaler.transform([[dien_tich, phong_ngu, phong_vs]])[0]\n",
      "                        ~~~~~~~~~~~~~~~~^^^^^^^^^^^^^^^^^^^^^^^^^^^^^^^^^^^^\n",
      "  File \"d:\\code\\python\\KHDL\\.venv\\Lib\\site-packages\\sklearn\\utils\\_set_output.py\", line 316, in wrapped\n",
      "    data_to_wrap = f(self, X, *args, **kwargs)\n",
      "  File \"d:\\code\\python\\KHDL\\.venv\\Lib\\site-packages\\sklearn\\preprocessing\\_data.py\", line 545, in transform\n",
      "    X = validate_data(\n",
      "        self,\n",
      "    ...<5 lines>...\n",
      "        reset=False,\n",
      "    )\n",
      "  File \"d:\\code\\python\\KHDL\\.venv\\Lib\\site-packages\\sklearn\\utils\\validation.py\", line 2975, in validate_data\n",
      "    _check_n_features(_estimator, X, reset=reset)\n",
      "    ~~~~~~~~~~~~~~~~~^^^^^^^^^^^^^^^^^^^^^^^^^^^^\n",
      "  File \"d:\\code\\python\\KHDL\\.venv\\Lib\\site-packages\\sklearn\\utils\\validation.py\", line 2839, in _check_n_features\n",
      "    raise ValueError(\n",
      "    ...<2 lines>...\n",
      "    )\n",
      "ValueError: X has 3 features, but MinMaxScaler is expecting 6 features as input.\n",
      "Traceback (most recent call last):\n",
      "  File \"d:\\code\\python\\KHDL\\.venv\\Lib\\site-packages\\sklearn\\utils\\_encode.py\", line 235, in _encode\n",
      "    return _map_to_integer(values, uniques)\n",
      "  File \"d:\\code\\python\\KHDL\\.venv\\Lib\\site-packages\\sklearn\\utils\\_encode.py\", line 174, in _map_to_integer\n",
      "    return xp.asarray([table[v] for v in values], device=device(values))\n",
      "                       ~~~~~^^^\n",
      "  File \"d:\\code\\python\\KHDL\\.venv\\Lib\\site-packages\\sklearn\\utils\\_encode.py\", line 167, in __missing__\n",
      "    raise KeyError(key)\n",
      "KeyError: 'Biệt thự'\n",
      "\n",
      "During handling of the above exception, another exception occurred:\n",
      "\n",
      "Traceback (most recent call last):\n",
      "  File \"d:\\code\\python\\KHDL\\.venv\\Lib\\site-packages\\gradio\\queueing.py\", line 759, in process_events\n",
      "    response = await route_utils.call_process_api(\n",
      "               ^^^^^^^^^^^^^^^^^^^^^^^^^^^^^^^^^^^\n",
      "    ...<5 lines>...\n",
      "    )\n",
      "    ^\n",
      "  File \"d:\\code\\python\\KHDL\\.venv\\Lib\\site-packages\\gradio\\route_utils.py\", line 354, in call_process_api\n",
      "    output = await app.get_blocks().process_api(\n",
      "             ^^^^^^^^^^^^^^^^^^^^^^^^^^^^^^^^^^^\n",
      "    ...<11 lines>...\n",
      "    )\n",
      "    ^\n",
      "  File \"d:\\code\\python\\KHDL\\.venv\\Lib\\site-packages\\gradio\\blocks.py\", line 2116, in process_api\n",
      "    result = await self.call_function(\n",
      "             ^^^^^^^^^^^^^^^^^^^^^^^^^\n",
      "    ...<8 lines>...\n",
      "    )\n",
      "    ^\n",
      "  File \"d:\\code\\python\\KHDL\\.venv\\Lib\\site-packages\\gradio\\blocks.py\", line 1623, in call_function\n",
      "    prediction = await anyio.to_thread.run_sync(  # type: ignore\n",
      "                 ^^^^^^^^^^^^^^^^^^^^^^^^^^^^^^^^^^^^^^^^^^^^^^^\n",
      "        fn, *processed_input, limiter=self.limiter\n",
      "        ^^^^^^^^^^^^^^^^^^^^^^^^^^^^^^^^^^^^^^^^^^\n",
      "    )\n",
      "    ^\n",
      "  File \"d:\\code\\python\\KHDL\\.venv\\Lib\\site-packages\\anyio\\to_thread.py\", line 56, in run_sync\n",
      "    return await get_async_backend().run_sync_in_worker_thread(\n",
      "           ^^^^^^^^^^^^^^^^^^^^^^^^^^^^^^^^^^^^^^^^^^^^^^^^^^^^\n",
      "        func, args, abandon_on_cancel=abandon_on_cancel, limiter=limiter\n",
      "        ^^^^^^^^^^^^^^^^^^^^^^^^^^^^^^^^^^^^^^^^^^^^^^^^^^^^^^^^^^^^^^^^\n",
      "    )\n",
      "    ^\n",
      "  File \"d:\\code\\python\\KHDL\\.venv\\Lib\\site-packages\\anyio\\_backends\\_asyncio.py\", line 2485, in run_sync_in_worker_thread\n",
      "    return await future\n",
      "           ^^^^^^^^^^^^\n",
      "  File \"d:\\code\\python\\KHDL\\.venv\\Lib\\site-packages\\anyio\\_backends\\_asyncio.py\", line 976, in run\n",
      "    result = context.run(func, *args)\n",
      "  File \"d:\\code\\python\\KHDL\\.venv\\Lib\\site-packages\\gradio\\utils.py\", line 915, in wrapper\n",
      "    response = f(*args, **kwargs)\n",
      "  File \"C:\\Users\\ACER\\AppData\\Local\\Temp\\ipykernel_22968\\5120511.py\", line 3, in predict\n",
      "    loai_enc = le_loai.transform([loai_hinh])[0]\n",
      "               ~~~~~~~~~~~~~~~~~^^^^^^^^^^^^^\n",
      "  File \"d:\\code\\python\\KHDL\\.venv\\Lib\\site-packages\\sklearn\\preprocessing\\_label.py\", line 134, in transform\n",
      "    return _encode(y, uniques=self.classes_)\n",
      "  File \"d:\\code\\python\\KHDL\\.venv\\Lib\\site-packages\\sklearn\\utils\\_encode.py\", line 237, in _encode\n",
      "    raise ValueError(f\"y contains previously unseen labels: {e}\")\n",
      "ValueError: y contains previously unseen labels: 'Biệt thự'\n",
      "Traceback (most recent call last):\n",
      "  File \"d:\\code\\python\\KHDL\\.venv\\Lib\\site-packages\\sklearn\\utils\\_encode.py\", line 235, in _encode\n",
      "    return _map_to_integer(values, uniques)\n",
      "  File \"d:\\code\\python\\KHDL\\.venv\\Lib\\site-packages\\sklearn\\utils\\_encode.py\", line 174, in _map_to_integer\n",
      "    return xp.asarray([table[v] for v in values], device=device(values))\n",
      "                       ~~~~~^^^\n",
      "  File \"d:\\code\\python\\KHDL\\.venv\\Lib\\site-packages\\sklearn\\utils\\_encode.py\", line 167, in __missing__\n",
      "    raise KeyError(key)\n",
      "KeyError: 'Biệt thự'\n",
      "\n",
      "During handling of the above exception, another exception occurred:\n",
      "\n",
      "Traceback (most recent call last):\n",
      "  File \"d:\\code\\python\\KHDL\\.venv\\Lib\\site-packages\\gradio\\queueing.py\", line 759, in process_events\n",
      "    response = await route_utils.call_process_api(\n",
      "               ^^^^^^^^^^^^^^^^^^^^^^^^^^^^^^^^^^^\n",
      "    ...<5 lines>...\n",
      "    )\n",
      "    ^\n",
      "  File \"d:\\code\\python\\KHDL\\.venv\\Lib\\site-packages\\gradio\\route_utils.py\", line 354, in call_process_api\n",
      "    output = await app.get_blocks().process_api(\n",
      "             ^^^^^^^^^^^^^^^^^^^^^^^^^^^^^^^^^^^\n",
      "    ...<11 lines>...\n",
      "    )\n",
      "    ^\n",
      "  File \"d:\\code\\python\\KHDL\\.venv\\Lib\\site-packages\\gradio\\blocks.py\", line 2116, in process_api\n",
      "    result = await self.call_function(\n",
      "             ^^^^^^^^^^^^^^^^^^^^^^^^^\n",
      "    ...<8 lines>...\n",
      "    )\n",
      "    ^\n",
      "  File \"d:\\code\\python\\KHDL\\.venv\\Lib\\site-packages\\gradio\\blocks.py\", line 1623, in call_function\n",
      "    prediction = await anyio.to_thread.run_sync(  # type: ignore\n",
      "                 ^^^^^^^^^^^^^^^^^^^^^^^^^^^^^^^^^^^^^^^^^^^^^^^\n",
      "        fn, *processed_input, limiter=self.limiter\n",
      "        ^^^^^^^^^^^^^^^^^^^^^^^^^^^^^^^^^^^^^^^^^^\n",
      "    )\n",
      "    ^\n",
      "  File \"d:\\code\\python\\KHDL\\.venv\\Lib\\site-packages\\anyio\\to_thread.py\", line 56, in run_sync\n",
      "    return await get_async_backend().run_sync_in_worker_thread(\n",
      "           ^^^^^^^^^^^^^^^^^^^^^^^^^^^^^^^^^^^^^^^^^^^^^^^^^^^^\n",
      "        func, args, abandon_on_cancel=abandon_on_cancel, limiter=limiter\n",
      "        ^^^^^^^^^^^^^^^^^^^^^^^^^^^^^^^^^^^^^^^^^^^^^^^^^^^^^^^^^^^^^^^^\n",
      "    )\n",
      "    ^\n",
      "  File \"d:\\code\\python\\KHDL\\.venv\\Lib\\site-packages\\anyio\\_backends\\_asyncio.py\", line 2485, in run_sync_in_worker_thread\n",
      "    return await future\n",
      "           ^^^^^^^^^^^^\n",
      "  File \"d:\\code\\python\\KHDL\\.venv\\Lib\\site-packages\\anyio\\_backends\\_asyncio.py\", line 976, in run\n",
      "    result = context.run(func, *args)\n",
      "  File \"d:\\code\\python\\KHDL\\.venv\\Lib\\site-packages\\gradio\\utils.py\", line 915, in wrapper\n",
      "    response = f(*args, **kwargs)\n",
      "  File \"C:\\Users\\ACER\\AppData\\Local\\Temp\\ipykernel_22968\\5120511.py\", line 3, in predict\n",
      "    loai_enc = le_loai.transform([loai_hinh])[0]\n",
      "               ~~~~~~~~~~~~~~~~~^^^^^^^^^^^^^\n",
      "  File \"d:\\code\\python\\KHDL\\.venv\\Lib\\site-packages\\sklearn\\preprocessing\\_label.py\", line 134, in transform\n",
      "    return _encode(y, uniques=self.classes_)\n",
      "  File \"d:\\code\\python\\KHDL\\.venv\\Lib\\site-packages\\sklearn\\utils\\_encode.py\", line 237, in _encode\n",
      "    raise ValueError(f\"y contains previously unseen labels: {e}\")\n",
      "ValueError: y contains previously unseen labels: 'Biệt thự'\n"
     ]
    }
   ],
   "source": [
    "iface = gr.Interface(\n",
    "    fn=predict,\n",
    "    inputs=[\n",
    "        gr.Dropdown([\"Nhà riêng\", \"Nhà mặt phố\", \"Chung cư\", \"Biệt thự\", \"Shophouse\"], label=\"Loại hình\"),\n",
    "        gr.Number(label=\"Diện tích (m²)\", value=80),\n",
    "        gr.Dropdown([\"Sổ đỏ\", \"Sổ hồng\", \"Hợp đồng mua bán\", \"Đang chờ sổ\", \"Đầy đủ pháp lý khác\"], label=\"Giấy tờ pháp lý\"),\n",
    "        gr.Slider(0, 10, 2, step=1, label=\"Số phòng ngủ\"),\n",
    "        gr.Slider(0, 10, 1, step=1, label=\"Số phòng vệ sinh\"),\n",
    "        gr.Dropdown([\"Đầy đủ\", \"Cơ bản\", \"Không nội thất\", \"Bàn giao thô\"], label=\"Tình trạng nội thất\"),\n",
    "    ],\n",
    "    outputs=\"text\",\n",
    "    title=\"🏠 Dự đoán giá nhà bất động sản\",\n",
    "    description=\"Nhập thông tin chi tiết để dự đoán giá nhà (đơn vị: tỷ đồng).\",\n",
    "    theme=\"gradio/soft\"\n",
    ")\n",
    "\n",
    "iface.launch(inline=True)"
   ]
  }
 ],
 "metadata": {
  "kernelspec": {
   "display_name": ".venv",
   "language": "python",
   "name": "python3"
  },
  "language_info": {
   "codemirror_mode": {
    "name": "ipython",
    "version": 3
   },
   "file_extension": ".py",
   "mimetype": "text/x-python",
   "name": "python",
   "nbconvert_exporter": "python",
   "pygments_lexer": "ipython3",
   "version": "3.13.0"
  }
 },
 "nbformat": 4,
 "nbformat_minor": 5
}
